{
 "cells": [
  {
   "cell_type": "code",
<<<<<<< Updated upstream
   "execution_count": 8,
   "metadata": {
    "collapsed": true
   },
   "outputs": [],
   "source": [
    "import os"
=======
   "execution_count": 24,
   "metadata": {
    "collapsed": false
   },
   "outputs": [
    {
     "name": "stdout",
     "output_type": "stream",
     "text": [
      "Skipping\n",
      "READ SERR 1 2\n",
      "\n",
      "Skipping\n",
      "@fpma_year0vs4.pco\n",
      "\n",
      "Skipping\n",
      "!\n",
      "\n",
      "Closing\n",
      "215\n",
      "NO NO NO NO NO NO NO\n",
      "\n"
     ]
    }
   ],
   "source": [
    "f = open('fpma_year0vs4.qdp', 'r')\n",
    "\n",
    "fo = open('fpma_year0.txt', 'w')\n",
    "ctr = 0\n",
    "for line in f:\n",
    "#    print(line)\n",
    "    fields = line.split()\n",
    "    if (len(fields) < 7):\n",
    "        print(\"Skipping\")\n",
    "        print(line)\n",
    "        continue\n",
    "    if \"NO\" in line:\n",
    "        print(\"Closing\")\n",
    "        print(ctr)\n",
    "        ctr=0\n",
    "        print(line)\n",
    "        \n",
    "        fo.close()\n",
    "        fo = open('fpma_year4.txt', 'w')\n",
    "        continue\n",
    "    \n",
    "    ctr+=1\n",
    "    fo.write(line)\n",
    "    \n",
    "#    print(ctr, line)\n",
    "    \n",
    "#print(ctr)\n",
    "fo.close()\n",
    "f.close()"
>>>>>>> Stashed changes
   ]
  },
  {
   "cell_type": "code",
<<<<<<< Updated upstream
   "execution_count": 2,
=======
   "execution_count": null,
>>>>>>> Stashed changes
   "metadata": {
    "collapsed": true
   },
   "outputs": [],
   "source": []
  },
  {
   "cell_type": "code",
<<<<<<< Updated upstream
   "execution_count": 4,
   "metadata": {
    "collapsed": false
   },
   "outputs": [],
   "source": [
    "file = 'multi_year_FPMB_det0_comp.qdp'\n",
    "base = file.strip('.qdp')\n",
    "\n",
    "\n",
    "outnum = 1\n",
    "outf = open(base+'_{}'.format(outnum)+'.txt', 'w')\n",
    "f = open(file, 'r')\n",
    "for ind, line in enumerate(f):\n",
    "    if ind < 3:\n",
    "        continue\n",
    "    if 'NO NO NO NO NO NO NO' in line:\n",
    "        outf.close()\n",
    "        outnum +=1\n",
    "        outf = open(base+'_{}'.format(outnum)+'.txt', 'w')\n",
    "        continue\n",
    "    outf.write(line+'\\n')\n",
    "\n",
    "f.close()\n",
    "outf.close()"
   ]
  },
  {
   "cell_type": "code",
=======
>>>>>>> Stashed changes
   "execution_count": null,
   "metadata": {
    "collapsed": true
   },
   "outputs": [],
   "source": []
  }
 ],
 "metadata": {
<<<<<<< Updated upstream
=======
  "anaconda-cloud": {},
>>>>>>> Stashed changes
  "kernelspec": {
   "display_name": "Python [default]",
   "language": "python",
   "name": "python3"
  },
  "language_info": {
   "codemirror_mode": {
    "name": "ipython",
    "version": 3
   },
   "file_extension": ".py",
   "mimetype": "text/x-python",
   "name": "python",
   "nbconvert_exporter": "python",
   "pygments_lexer": "ipython3",
<<<<<<< Updated upstream
   "version": "3.5.2"
=======
   "version": "3.5.1"
>>>>>>> Stashed changes
  }
 },
 "nbformat": 4,
 "nbformat_minor": 2
}
