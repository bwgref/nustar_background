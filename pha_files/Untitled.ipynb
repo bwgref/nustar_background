{
 "cells": [
  {
   "cell_type": "code",
   "execution_count": 8,
   "metadata": {
    "collapsed": true
   },
   "outputs": [],
   "source": [
    "import os"
   ]
  },
  {
   "cell_type": "code",
   "execution_count": 2,
   "metadata": {
    "collapsed": true
   },
   "outputs": [],
   "source": []
  },
  {
   "cell_type": "code",
   "execution_count": 4,
   "metadata": {
    "collapsed": false
   },
   "outputs": [],
   "source": [
    "file = 'multi_year_FPMB_det0_comp.qdp'\n",
    "base = file.strip('.qdp')\n",
    "\n",
    "\n",
    "outnum = 1\n",
    "outf = open(base+'_{}'.format(outnum)+'.txt', 'w')\n",
    "f = open(file, 'r')\n",
    "for ind, line in enumerate(f):\n",
    "    if ind < 3:\n",
    "        continue\n",
    "    if 'NO NO NO NO NO NO NO' in line:\n",
    "        outf.close()\n",
    "        outnum +=1\n",
    "        outf = open(base+'_{}'.format(outnum)+'.txt', 'w')\n",
    "        continue\n",
    "    outf.write(line+'\\n')\n",
    "\n",
    "f.close()\n",
    "outf.close()"
   ]
  },
  {
   "cell_type": "code",
   "execution_count": null,
   "metadata": {
    "collapsed": true
   },
   "outputs": [],
   "source": []
  }
 ],
 "metadata": {
  "kernelspec": {
   "display_name": "Python [default]",
   "language": "python",
   "name": "python3"
  },
  "language_info": {
   "codemirror_mode": {
    "name": "ipython",
    "version": 3
   },
   "file_extension": ".py",
   "mimetype": "text/x-python",
   "name": "python",
   "nbconvert_exporter": "python",
   "pygments_lexer": "ipython3",
   "version": "3.5.2"
  }
 },
 "nbformat": 4,
 "nbformat_minor": 2
}
