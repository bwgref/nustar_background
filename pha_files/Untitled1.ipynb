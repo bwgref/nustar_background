{
 "cells": [
  {
   "cell_type": "code",
   "execution_count": 1,
   "metadata": {
    "collapsed": true
   },
   "outputs": [],
   "source": [
    "from xspec import *"
   ]
  },
  {
   "cell_type": "code",
   "execution_count": 2,
   "metadata": {
    "collapsed": true
   },
   "outputs": [],
   "source": [
    "src = Spectrum('epoch0_det0_FPMA_repro.pha')"
   ]
  },
  {
   "cell_type": "code",
   "execution_count": 3,
   "metadata": {},
   "outputs": [],
   "source": [
    "Plot.xAxis = 'keV'\n",
    "Plot.device = '/xw'\n"
   ]
  },
  {
   "cell_type": "code",
   "execution_count": 4,
   "metadata": {
    "collapsed": true
   },
   "outputs": [],
   "source": [
    "src.multiresponse[1] = 'diag.rmf'"
   ]
  },
  {
   "cell_type": "code",
   "execution_count": 18,
   "metadata": {
    "collapsed": true
   },
   "outputs": [],
   "source": [
    "src.notice(\"all\")\n",
    "src.ignore(\"0-95., 150.-**\")"
   ]
  },
  {
   "cell_type": "code",
   "execution_count": 6,
   "metadata": {
    "collapsed": true
   },
   "outputs": [],
   "source": [
    "m1 = Model(\"gauss+gauss+gauss\")\n",
    "m2 = Model(\"bknpow\", \"cont\", 2)"
   ]
  },
  {
   "cell_type": "code",
   "execution_count": 14,
   "metadata": {},
   "outputs": [],
   "source": [
    "m1.gaussian.LineE.values = [105.4, 0.01, 104.5, 104.5, 106, 106]\n",
    "m1.gaussian.norm.values = 2637.33\n",
    "\n",
    "m1.gaussian_2.LineE.values = [144.6, 0.01, 143, 143, 148, 148]\n",
    "m1.gaussian_2.norm.values = 2465.00\n",
    "\n",
    "m1.gaussian_3.LineE.values = [122.08, 0.01, 121, 121, 123, 123]\n",
    "m1.gaussian_3.norm.values =  6726.22\n",
    "\n",
    "\n",
    "m2.bknpower.PhoIndx1.values = [ -0.122714  , 0.01  , -3 , -2, 9, 10]\n",
    "m2.bknpower.PhoIndx2.values = [ -0.765025  ,  0.01 , -3 , -2, 9 , 10]\n",
    "m2.bknpower.BreakE.values = [124,  -0.1, 0, 0.01, 1e+06, 1e+06]\n",
    "m2.bknpower.norm.values = 3146.31     "
   ]
  },
  {
   "cell_type": "code",
   "execution_count": 21,
   "metadata": {},
   "outputs": [],
   "source": [
    "Plot(\"Data\", \"Ratio\")\n",
    "Fit.perform()\n",
    "Plot(\"Data\", \"Ratio\")"
   ]
  },
  {
   "cell_type": "code",
   "execution_count": null,
   "metadata": {},
   "outputs": [],
   "source": [
    "# Ensure that new chains will burn the first 100 iterations, will\n",
    "# have length 1000, and will use the proposal \"gaussian fit\"\n",
    "AllChains.defBurn = 100\n",
    "AllChains.defLength = 10000\n",
    "c2 = Chain(\"chain_test.fits\")"
   ]
  },
  {
   "cell_type": "code",
   "execution_count": null,
   "metadata": {
    "collapsed": true
   },
   "outputs": [],
   "source": []
  }
 ],
 "metadata": {
  "anaconda-cloud": {},
  "kernelspec": {
   "display_name": "Python 3",
   "language": "python",
   "name": "python3"
  },
  "language_info": {
   "codemirror_mode": {
    "name": "ipython",
    "version": 3
   },
   "file_extension": ".py",
   "mimetype": "text/x-python",
   "name": "python",
   "nbconvert_exporter": "python",
   "pygments_lexer": "ipython3",
   "version": "3.5.5"
  }
 },
 "nbformat": 4,
 "nbformat_minor": 2
}
