{
 "cells": [
  {
   "cell_type": "code",
   "execution_count": 39,
   "metadata": {},
   "outputs": [],
   "source": [
    "import os\n",
    "from nustar_gen import info\n",
    "ns = info.NuSTAR()\n",
    "import numpy as np\n",
    "from astropy.time import Time\n",
    "from astropy.io import fits"
   ]
  },
  {
   "cell_type": "code",
   "execution_count": 40,
   "metadata": {},
   "outputs": [],
   "source": [
    "caldb = os.getenv('CALDB')\n",
    "gain_path = caldb+'/data/nustar/fpm/bcf/gain/'\n",
    "now = Time.now()"
   ]
  },
  {
   "cell_type": "code",
   "execution_count": 42,
   "metadata": {},
   "outputs": [
    {
     "name": "stdout",
     "output_type": "stream",
     "text": [
      "Filename: /Users/bwgref/science/local/CALDB/data/nustar/fpm/bcf/gain/nuAgain20100101v007.fits\n",
      "No.    Name      Ver    Type      Cards   Dimensions   Format\n",
      "  0  PRIMARY       1 PrimaryHDU      12   ()      \n",
      "  1  GAIN          1 BinTableHDU     58   2048R x 6C   [D, B, B, 3E, 3E, 3E]   \n",
      "  2  GAIN          2 BinTableHDU     58   2048R x 6C   [D, B, B, 3E, 3E, 3E]   \n",
      "  3  GAIN          3 BinTableHDU     58   2048R x 6C   [D, B, B, 3E, 3E, 3E]   \n",
      "  4  GAIN          4 BinTableHDU     58   2048R x 6C   [D, B, B, 3E, 3E, 3E]   \n",
      "Filename: /Users/bwgref/science/local/CALDB/data/nustar/fpm/bcf/gain/nuAgain20100101v007.fits\n",
      "No.    Name      Ver    Type      Cards   Dimensions   Format\n",
      "  0  PRIMARY       1 PrimaryHDU      12   ()      \n",
      "  1  GAIN          1 BinTableHDU     58   4096R x 6C   ['D', 'B', 'B', '3E', '3E', '3E']   \n",
      "  2  GAIN          2 BinTableHDU     58   4096R x 6C   ['D', 'B', 'B', '3E', '3E', '3E']   \n",
      "  3  GAIN          3 BinTableHDU     58   4096R x 6C   ['D', 'B', 'B', '3E', '3E', '3E']   \n",
      "  4  GAIN          4 BinTableHDU     58   4096R x 6C   ['D', 'B', 'B', '3E', '3E', '3E']   \n",
      "\n",
      "Filename: /Users/bwgref/science/local/CALDB/data/nustar/fpm/bcf/gain/nuBgain20100101v007.fits\n",
      "No.    Name      Ver    Type      Cards   Dimensions   Format\n",
      "  0  PRIMARY       1 PrimaryHDU      12   ()      \n",
      "  1  GAIN          1 BinTableHDU     58   2048R x 6C   [D, B, B, 3E, 3E, 3E]   \n",
      "  2  GAIN          2 BinTableHDU     58   2048R x 6C   [D, B, B, 3E, 3E, 3E]   \n",
      "  3  GAIN          3 BinTableHDU     58   2048R x 6C   [D, B, B, 3E, 3E, 3E]   \n",
      "  4  GAIN          4 BinTableHDU     58   2048R x 6C   [D, B, B, 3E, 3E, 3E]   \n",
      "Filename: /Users/bwgref/science/local/CALDB/data/nustar/fpm/bcf/gain/nuBgain20100101v007.fits\n",
      "No.    Name      Ver    Type      Cards   Dimensions   Format\n",
      "  0  PRIMARY       1 PrimaryHDU      12   ()      \n",
      "  1  GAIN          1 BinTableHDU     58   4096R x 6C   ['D', 'B', 'B', '3E', '3E', '3E']   \n",
      "  2  GAIN          2 BinTableHDU     58   4096R x 6C   ['D', 'B', 'B', '3E', '3E', '3E']   \n",
      "  3  GAIN          3 BinTableHDU     58   4096R x 6C   ['D', 'B', 'B', '3E', '3E', '3E']   \n",
      "  4  GAIN          4 BinTableHDU     58   4096R x 6C   ['D', 'B', 'B', '3E', '3E', '3E']   \n",
      "\n"
     ]
    }
   ],
   "source": [
    "# vcit011 failed during the \"intermediate\" plateau (found a bug)\n",
    "# vcit012 should fix the bug\n",
    "# vcit013 allowed FPMA DET3 to have a single linear slope\n",
    "# vcit014 fits for FPMA DET2 gain drift in epoch 1\n",
    "\n",
    "for mod in ['A', 'B']:\n",
    "\n",
    "    # Read in the output from the Parse_Chain_Fits notebook\n",
    "    gain_data = np.loadtxt(f'gain_fit_{mod}_v2.txt')\n",
    "\n",
    "    # Load the base gain file from the CALDB\n",
    "    gain_base = gain_path+f'nu{mod}gain20100101v007.fits'\n",
    "    new_gain = f'nu{mod}gain20100101vcit014.fits'\n",
    "    \n",
    "    with fits.open(gain_base) as base_hdu:\n",
    "        base_hdu.info()\n",
    "        new_hdu_list = fits.HDUList(base_hdu[0])\n",
    "        for det in range(4):\n",
    "#             if mod is 'A' and det == 2:\n",
    "#                 continue\n",
    "            \n",
    "            base_gain_change = gain_data[det*3][2]\n",
    "            base_gain_change = 1.0\n",
    "            gain_change1 = gain_data[det*3+1][1]\n",
    "            slope_change1 = gain_data[det*3+1][2]\n",
    "            gain_change2 = gain_data[det*3+2][1]\n",
    "            slope_change2 = gain_data[det*3+2][2]\n",
    "\n",
    "\n",
    "            \n",
    "            data = base_hdu[det+1].data\n",
    "            hdr = base_hdu[det+1].header\n",
    "            hdr['DATE'] = now.isot\n",
    "            \n",
    "            # Find all of the rows associated with the 2015 gain change:\n",
    "            base_time_mask = data['TIME'] == data['TIME'][0]\n",
    "            base_time_ind = np.where(data['TIME'] == data['TIME'][0])[0]\n",
    "\n",
    "            nrows_base = data.shape[0]\n",
    "            base_data = data[base_time_mask]\n",
    "            base_data['SLOPE'] *= base_gain_change\n",
    "            temp_hdu = fits.BinTableHDU(data=base_data)\n",
    "            nrows_base = data[base_time_mask].shape[0]\n",
    "\n",
    "\n",
    "            \n",
    "            cal_time_2015 = data['TIME'][1]\n",
    "            \n",
    "                        \n",
    "            first_change = temp_hdu.copy()\n",
    "            second_change = temp_hdu.copy()\n",
    "            third_change = temp_hdu.copy()\n",
    "\n",
    "\n",
    "            # Include this bit to force the change for FPMA DET2A for the 2015 epoch:\n",
    "            \n",
    "            first_change.data['SLOPE'] /= slope_change1\n",
    "            first_change.data['TIME'] = [cal_time_2015 for x in second_change.data['TIME']]\n",
    "\n",
    "\n",
    "            # Second change is flat, so just use the same slopes as the first one\n",
    "            second_change.data['TIME'] = [gain_change1 for x in second_change.data['TIME']]\n",
    "            second_change.data['SLOPE'] /= slope_change1\n",
    "            \n",
    "            # Third change has the slope dropping again.\n",
    "            third_change.data['TIME'] = [gain_change2 for x in third_change.data['TIME']]\n",
    "            third_change.data['SLOPE'] /= slope_change2 \n",
    "            \n",
    "            nrows_first = first_change.data.shape[0]\n",
    "            nrows_second = second_change.data.shape[0]\n",
    "            nrows_third = third_change.data.shape[0]\n",
    "\n",
    "            # Extend old HDU to have the new number of rows\n",
    "            base_hdu[det+1] = fits.BinTableHDU.from_columns(base_hdu[det+1].columns,\n",
    "                                                    nrows = nrows_base + nrows_first + nrows_second + nrows_third)\n",
    "\n",
    "            # Copy over header information\n",
    "            base_hdu[det+1].header = hdr\n",
    "            \n",
    "            # Copy over all of the gain data\n",
    "            for colname in base_hdu[det+1].columns.names:\n",
    "                base_hdu[det+1].data[colname][0:nrows_base] = temp_hdu.data[colname]\n",
    "                base_hdu[det+1].data[colname][nrows_base:nrows_base+nrows_first] = first_change.data[colname]\n",
    "                base_hdu[det+1].data[colname][nrows_base+nrows_first:nrows_base+nrows_second+nrows_first] = second_change.data[colname]\n",
    "                base_hdu[det+1].data[colname][(nrows_base+nrows_first+nrows_second):] = third_change.data[colname]\n",
    "    \n",
    "        # Confirm that things worked okay\n",
    "        base_hdu.info()\n",
    "        \n",
    "        # Write output to new gain file.\n",
    "        base_hdu.writeto(new_gain, overwrite=True)\n",
    "        \n",
    "        print()"
   ]
  },
  {
   "cell_type": "code",
   "execution_count": 16,
   "metadata": {},
   "outputs": [
    {
     "data": {
      "text/plain": [
       "array([0.3351 , 0.33319, 0.33275], dtype=float32)"
      ]
     },
     "execution_count": 16,
     "metadata": {},
     "output_type": "execute_result"
    }
   ],
   "source": [
    "\n"
   ]
  },
  {
   "cell_type": "code",
   "execution_count": null,
   "metadata": {},
   "outputs": [],
   "source": []
  }
 ],
 "metadata": {
  "kernelspec": {
   "display_name": "Python 3",
   "language": "python",
   "name": "python3"
  },
  "language_info": {
   "codemirror_mode": {
    "name": "ipython",
    "version": 3
   },
   "file_extension": ".py",
   "mimetype": "text/x-python",
   "name": "python",
   "nbconvert_exporter": "python",
   "pygments_lexer": "ipython3",
   "version": "3.7.4"
  }
 },
 "nbformat": 4,
 "nbformat_minor": 4
}
