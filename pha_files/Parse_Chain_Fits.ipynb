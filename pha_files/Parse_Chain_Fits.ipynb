{
 "cells": [
  {
   "cell_type": "code",
   "execution_count": 15,
   "metadata": {},
   "outputs": [],
   "source": [
    "from astropy.io.fits import getdata\n",
    "import glob\n",
    "from matplotlib import pyplot as plt\n",
    "import os\n",
    "from astropy.table import Table\n",
    "import corner\n",
    "import pandas as pd\n",
    "from astropy import units as u\n",
    "from scipy import optimize\n",
    "\n",
    "import numpy as np\n",
    "\n",
    "fpma_gain_shift = {\n",
    "                'det0':0.9933,\n",
    "                'det1':0.9919,\n",
    "                'det2':0.9993,\n",
    "                'det3':0.9973\n",
    "                }\n",
    "\n",
    "fpmb_gain_shift = {\n",
    "                'det0':0.9955,\n",
    "                'det1':0.9929,\n",
    "                'det2':0.9928,\n",
    "                'det3':0.9960\n",
    "                }\n"
   ]
  },
  {
   "cell_type": "code",
   "execution_count": 2,
   "metadata": {},
   "outputs": [],
   "source": [
    "def piecewise_linear(t, en0, change1, shift1, change2, shift2):\n",
    "\n",
    "    dt1 = change1    \n",
    "    dt2 = np.max(t) - change2\n",
    "   \n",
    "    f1 = lambda t: en0 * ( 1 - (1.0 - shift1) * t / dt1)\n",
    "    f2 = lambda t: en0 * shift1\n",
    "    f3 = lambda t: (en0 * shift1) * (1.0 - (1.0 - shift2) * (t - change2) / dt2)\n",
    "\n",
    "    fx = np.select( [t < change1, (t>=change1) & (t<change2), t>=change2], [f1(t), f2(t), f3(t)])\n",
    "\n",
    "    return fx\n",
    "    \n",
    "\n"
   ]
  },
  {
   "cell_type": "code",
   "execution_count": 3,
   "metadata": {},
   "outputs": [],
   "source": [
    "def load_chain(chain_file, test_entry='LineE__1'):\n",
    "    chain = Table.read(chain_file)\n",
    "    df = chain.to_pandas()\n",
    "\n",
    "    for entry in df:\n",
    "        if test_entry != entry:\n",
    "            continue\n",
    "\n",
    "\n",
    "        q = corner.quantile(df[entry], [0.16, 0.5, 0.84])\n",
    "        cent = q[1]\n",
    "        err = 0.5* ((q[1] - q[0]) + (q[2] - q[1]))\n",
    "    return cent, err\n",
    "\n",
    "\n"
   ]
  },
  {
   "cell_type": "code",
   "execution_count": 147,
   "metadata": {},
   "outputs": [],
   "source": [
    "def loop_epochs(det='0', mod = 'A', fit_change1=False,free_drift=False, fit_line=False,showFit=True):\n",
    "    \n",
    "    gain_met = 159663600. # from CALDB file\n",
    "    launch_met=77241600. # 2012-06-13T00:00:00\n",
    "\n",
    "    gain_date = ((gain_met - launch_met)*u.s).to(u.yr).value\n",
    "    epochs_per_yr = 2.\n",
    "\n",
    "    change1 = gain_date*epochs_per_yr\n",
    "\n",
    "\n",
    "    \n",
    "    \n",
    "    chain_files = sorted(glob.glob('epoch*det{}*FPM{}*chain.fits'.format(det, mod)))\n",
    "    epochs = []\n",
    "    line_cent = []\n",
    "    line_err = []\n",
    "    # Get 105.3 keV fits\n",
    "    for file in chain_files:\n",
    "        epoch_str = (file.split('_'))[0]\n",
    "        epoch = float((epoch_str[5:]))\n",
    "\n",
    "        epochs.append(epoch)\n",
    "        cent, err = load_chain(file)\n",
    "        line_cent.append(float(cent))\n",
    "        line_err.append(float(err))\n",
    "\n",
    "        \n",
    "    epochs = np.array(epochs)\n",
    "    td = np.linspace(0, np.max(epochs), 40)\n",
    "    \n",
    "    if mod == 'A':\n",
    "        gain_drift = fpma_gain_shift['det{}'.format(det)]\n",
    "    else:\n",
    "        gain_drift = fpmb_gain_shift['det{}'.format(det)]\n",
    "\n",
    "        \n",
    "    p0 = [105.3, change1, gain_drift, 8.0, 0.997]\n",
    "    \n",
    "    if fit_line is True:\n",
    "        line_tol = 1.\n",
    "    else:\n",
    "        line_tol = 1e-3\n",
    "    \n",
    "    if free_drift:\n",
    "        drift_tol = 1e-2\n",
    "    else:\n",
    "        drift_tol = 1e-4\n",
    "    \n",
    "    if fit_change1:\n",
    "        change1_tol = 2.\n",
    "    else:\n",
    "        change1_tol = 1e-4\n",
    "    \n",
    "    \n",
    "    bounds = ([105.3-line_tol, change1-change1_tol, gain_drift-drift_tol, 8.0, 0.9 ],\n",
    "              [105.3+line_tol, change1+change1_tol, gain_drift + drift_tol, 8.1, 1.1])\n",
    "        \n",
    "    \n",
    "    \n",
    "    # Do piecewise linear fit\n",
    "    p , pcov = optimize.curve_fit(piecewise_linear, epochs, line_cent, sigma=line_err, p0 = p0,\n",
    "                              bounds = bounds)\n",
    "\n",
    "    \n",
    "    \n",
    "    #     # Load 144 keV line:\n",
    "    \n",
    "\n",
    "    line_cent144 = []\n",
    "    line_err144 = []\n",
    "    for file in chain_files:\n",
    "        cent, err = load_chain(file, test_entry='LineE__4')\n",
    "        line_cent144.append(float(cent))\n",
    "        line_err144.append(float(err))\n",
    "\n",
    "\n",
    "\n",
    "    p144_0 = np.copy(p)\n",
    "    p144_0[0] = 144.5\n",
    "    drift_tol = 1e-4\n",
    "    line_tol = 0.5\n",
    "    bounds = ([144.5-0.5, p[1]-1e-5, p[2]-1e-4, p[3]-1e-4, p[4]-1e-4 ],\n",
    "              [144.5+0.5, p[1], p[2], p[3], p[4]])\n",
    "    p144 , e = optimize.curve_fit(piecewise_linear, epochs, line_cent144, sigma=line_err144, p0 = p144_0,\n",
    "                              bounds = bounds)\n",
    "\n",
    " \n",
    "\n",
    "    if showFit:\n",
    "        print('First guess: ', p0)\n",
    "        print('Fit: ', p)\n",
    "        perr = np.sqrt(np.diag(pcov))\n",
    "        print('Errors: ', perr)\n",
    "\n",
    "        print('Fit to 144.5 keV line')\n",
    "        print(p144)\n",
    "        est_lines = piecewise_linear(epochs, *p)\n",
    "        est_lines144 = piecewise_linear(epochs, *p144)\n",
    "\n",
    "\n",
    "\n",
    "        epochs *= 0.5\n",
    "        \n",
    "        plt.errorbar(epochs, line_cent, line_err, fmt='.')\n",
    "\n",
    "        plt.plot(epochs, est_lines, '.')\n",
    "        plt.xlabel('Years since launch')\n",
    "        plt.ylabel('Apparent 105.3 keV line energy')\n",
    "\n",
    "        plt.axvline(p[1]*0.5, c='red', linestyle='dashed')\n",
    "        plt.axvline(p[3]*0.5, c='red', linestyle='dashed')\n",
    "\n",
    "\n",
    "        plt.show()\n",
    "\n",
    "\n",
    "        plt.errorbar(epochs, line_cent / est_lines, line_err / est_lines, fmt = '.')\n",
    "        plt.xlabel('Years since launch')\n",
    "        plt.ylabel('Residual Gain Differences')\n",
    "\n",
    "        plt.show()\n",
    "\n",
    "\n",
    "        plt.errorbar(epochs, line_cent144, line_err144, fmt='.')\n",
    "\n",
    "        plt.ylabel('Apparent 144 keV line energy')\n",
    "        plt.xlabel('Years since launch')\n",
    "\n",
    "\n",
    "        plt.plot(epochs, est_lines144, '.')\n",
    "        \n",
    "        plt.show()\n",
    "\n",
    "        plt.errorbar(epochs, line_cent144 / est_lines144, line_err144 / est_lines144, fmt = '.')\n",
    "        plt.ylabel('Residual gain differences @144 keV')\n",
    "        plt.xlabel('Years since launch')\n",
    " \n",
    "        plt.show()\n",
    "    return p\n"
   ]
  },
  {
   "cell_type": "code",
   "execution_count": 118,
   "metadata": {},
   "outputs": [],
   "source": [
    "from importlib import reload\n",
    "from nustar_gen import info\n",
    "reload(info)\n",
    "from astropy.time import Time\n",
    "import astropy.units as u\n",
    "ns = info.NuSTAR()"
   ]
  },
  {
   "cell_type": "code",
   "execution_count": 125,
   "metadata": {},
   "outputs": [],
   "source": [
    "launch = ns.launch\n",
    "ns.mjdref+100*u.s\n",
    "epoch_change = (ns.launch + (0.5 * 8. * u.yr).to(u.day))\n",
    "last_epoch = (ns.launch + (0.5*14 * u.yr).to(u.day))"
   ]
  },
  {
   "cell_type": "code",
   "execution_count": 126,
   "metadata": {},
   "outputs": [
    {
     "name": "stdout",
     "output_type": "stream",
     "text": [
      "2016-06-12T23:59:58.000 203472000.0\n",
      "2019-06-13T17:59:57.000 298144800.0\n"
     ]
    }
   ],
   "source": [
    "epoch_change_met = ns.time_to_met(epoch_change)\n",
    "last_epoch_met = ns.time_to_met(last_epoch)\n",
    "print(epoch_change, epoch_change_met)\n",
    "print(last_epoch, last_epoch_met)"
   ]
  },
  {
   "cell_type": "code",
   "execution_count": 150,
   "metadata": {},
   "outputs": [],
   "source": [
    "for mod in ['A', 'B']:\n",
    "    best_fits = f'gain_fit_{mod}.txt'\n",
    "    f = open(best_fits, 'w')\n",
    "    for det in range(4):\n",
    "        fit_pars = loop_epochs(mod=mod,det = f'{det}', free_drift = False, fit_line=True, fit_change1=False, showFit=False)\n",
    "        f.write(f'{det} {epoch_change_met} {fit_pars[2]}\\n')\n",
    "        f.write(f'{det} {last_epoch_met} {fit_pars[4]}\\n')\n",
    "\n",
    "    f.close()"
   ]
  },
  {
   "cell_type": "code",
   "execution_count": 148,
   "metadata": {},
   "outputs": [
    {
     "name": "stdout",
     "output_type": "stream",
     "text": [
      "First guess:  [105.3, 5.223591147615788, 0.9933, 8.0, 0.997]\n",
      "Fit:  [105.42242761   5.22369115   0.9934       8.1          0.99523173]\n",
      "Errors:  [4.46908638e-02 5.43729330e-01 5.51394418e-04 8.10075211e-01\n",
      " 5.45461428e-04]\n",
      "Fit to 144.5 keV line\n",
      "[144.58602388   5.22368115   0.9934       8.0999       0.99523173]\n"
     ]
    },
    {
     "data": {
      "image/png": "[encoded data removed]",
      "text/plain": [
       "<Figure size 432x288 with 1 Axes>"
      ]
     },
     "metadata": {
      "needs_background": "light"
     },
     "output_type": "display_data"
    },
    {
     "data": {
      "image/png": "[encoded data removed]",
      "text/plain": [
       "<Figure size 432x288 with 1 Axes>"
      ]
     },
     "metadata": {
      "needs_background": "light"
     },
     "output_type": "display_data"
    },
    {
     "data": {
      "image/png": "[encoded data removed]",
      "text/plain": [
       "<Figure size 432x288 with 1 Axes>"
      ]
     },
     "metadata": {
      "needs_background": "light"
     },
     "output_type": "display_data"
    },
    {
     "data": {
      "image/png": "[encoded data removed]",
      "text/plain": [
       "<Figure size 432x288 with 1 Axes>"
      ]
     },
     "metadata": {
      "needs_background": "light"
     },
     "output_type": "display_data"
    }
   ],
   "source": [
    "fit_pars = loop_epochs(mod='A',det = '0', free_drift = False, fit_line=True, fit_change1=False, showFit=True)\n"
   ]
  },
  {
   "cell_type": "code",
   "execution_count": null,
   "metadata": {},
   "outputs": [],
   "source": []
  }
 ],
 "metadata": {
  "anaconda-cloud": {},
  "kernelspec": {
   "display_name": "Python 3",
   "language": "python",
   "name": "python3"
  },
  "language_info": {
   "codemirror_mode": {
    "name": "ipython",
    "version": 3
   },
   "file_extension": ".py",
   "mimetype": "text/x-python",
   "name": "python",
   "nbconvert_exporter": "python",
   "pygments_lexer": "ipython3",
   "version": "3.7.4"
  }
 },
 "nbformat": 4,
 "nbformat_minor": 4
}
