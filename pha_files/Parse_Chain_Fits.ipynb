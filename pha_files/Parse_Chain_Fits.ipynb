{
 "cells": [
  {
   "cell_type": "code",
   "execution_count": 15,
   "metadata": {},
   "outputs": [
    {
     "name": "stdout",
     "output_type": "stream",
     "text": [
      "219250800.0 s\n"
     ]
    }
   ],
   "source": [
    "from astropy.io.fits import getdata\n",
    "import glob\n",
    "from matplotlib import pyplot as plt\n",
    "import os\n",
    "from astropy.table import Table\n",
    "import corner\n",
    "import pandas as pd\n",
    "from astropy import units as u\n",
    "from scipy import optimize\n",
    "\n",
    "import numpy as np\n",
    "\n",
    "fpma_gain_shift = {\n",
    "                'det0':0.9933,\n",
    "                'det1':0.9919,\n",
    "                'det2':0.9993,\n",
    "                'det3':0.9973\n",
    "                }\n",
    "\n",
    "fpmb_gain_shift = {\n",
    "                'det0':0.9955,\n",
    "                'det1':0.9929,\n",
    "                'det2':0.9928,\n",
    "                'det3':0.9960\n",
    "                }\n",
    "\n"
   ]
  },
  {
   "cell_type": "code",
   "execution_count": 95,
   "metadata": {},
   "outputs": [],
   "source": [
    "def piecewise_linear(t, en0, change1, shift1, change2, shift2):\n",
    "\n",
    "    dt1 = change1    \n",
    "    dt2 = np.max(t) - change2\n",
    "   \n",
    "    f1 = lambda t: en0 * ( 1 - (1.0 - shift1) * t / dt1)\n",
    "    f2 = lambda t: en0 * shift1\n",
    "    f3 = lambda t: (en0 * shift1) * (1.0 - (1.0 - shift2) * (t - change2) / dt2)\n",
    "\n",
    "    fx = np.select( [t < change1, (t>=change1) & (t<change2), t>=change2], [f1(t), f2(t), f3(t)])\n",
    "\n",
    "    return fx\n",
    "    \n",
    "\n"
   ]
  },
  {
   "cell_type": "code",
   "execution_count": 96,
   "metadata": {},
   "outputs": [],
   "source": [
    "def load_chain(chain_file, test_entry='LineE__1'):\n",
    "    chain = Table.read(chain_file)\n",
    "    df = chain.to_pandas()\n",
    "\n",
    "    for entry in df:\n",
    "        if test_entry != entry:\n",
    "            continue\n",
    "\n",
    "\n",
    "        q = corner.quantile(df[entry], [0.16, 0.5, 0.84])\n",
    "        cent = q[1]\n",
    "        err = 0.5* ((q[1] - q[0]) + (q[2] - q[1]))\n",
    "    return cent, err\n",
    "\n",
    "\n"
   ]
  },
  {
   "cell_type": "code",
   "execution_count": 113,
   "metadata": {},
   "outputs": [],
   "source": [
    "def loop_epochs(det='0', mod = 'A', fit_change1=False,free_drift=False, fit_line=False):\n",
    "    \n",
    "    gain_met = 159663600. # from CALDB file\n",
    "    launch_met=77241600. # 2012-06-13T00:00:00\n",
    "\n",
    "    gain_date = ((gain_met - launch_met)*u.s).to(u.yr).value\n",
    "    epochs_per_yr = 2.\n",
    "\n",
    "    change1 = gain_date*epochs_per_yr\n",
    "\n",
    "\n",
    "    \n",
    "    \n",
    "    chain_files = sorted(glob.glob('epoch*det{}*FPM{}*chain.fits'.format(det, mod)))\n",
    "    epochs = []\n",
    "    line_cent = []\n",
    "    line_err = []\n",
    "    # Get 105.3 keV fits\n",
    "    for file in chain_files:\n",
    "        epoch_str = (file.split('_'))[0]\n",
    "        epoch = float((epoch_str[5:]))\n",
    "\n",
    "        epochs.append(epoch)\n",
    "        cent, err = load_chain(file)\n",
    "        line_cent.append(float(cent))\n",
    "        line_err.append(float(err))\n",
    "\n",
    "        \n",
    "    epochs = np.array(epochs)\n",
    "    td = np.linspace(0, np.max(epochs), 40)\n",
    "    \n",
    "    if mod == 'A':\n",
    "        gain_drift = fpma_gain_shift['det{}'.format(det)]\n",
    "    else:\n",
    "        gain_drift = fpmb_gain_shift['det{}'.format(det)]\n",
    "\n",
    "        \n",
    "    p0 = [105.3, change1, gain_drift, 7.0, 0.997]\n",
    "    \n",
    "    if fit_line is True:\n",
    "        line_tol = 1.\n",
    "    else:\n",
    "        line_tol = 1e-3\n",
    "    \n",
    "    if free_drift:\n",
    "        drift_tol = 1e-2\n",
    "    else:\n",
    "        drift_tol = 1e-4\n",
    "    \n",
    "    if fit_change1:\n",
    "        change1_tol = 2.\n",
    "    else:\n",
    "        change1_tol = 1e-4\n",
    "    \n",
    "    \n",
    "    bounds = ([105.3-line_tol, change1-change1_tol, gain_drift-drift_tol, 5.0, 0.9 ],\n",
    "              [105.3+line_tol, change1+change1_tol, gain_drift + drift_tol, 10.0, 1.1])\n",
    "        \n",
    "    \n",
    "    plt.errorbar(epochs, line_cent, line_err, fmt='.')\n",
    "    \n",
    "    # Do piecewise linear fit\n",
    "    p , pcov = optimize.curve_fit(piecewise_linear, epochs, line_cent, sigma=line_err, p0 = p0,\n",
    "                              bounds = bounds)\n",
    "\n",
    "    print('First guess: ', p0)\n",
    "    print('Fit: ', p)\n",
    "    perr = np.sqrt(np.diag(pcov))\n",
    "    print('Errors: ', perr)\n",
    "\n",
    "\n",
    "    plt.plot(td, piecewise_linear(td, *p), '.')\n",
    "\n",
    "    plt.show()\n",
    "\n",
    "    \n",
    "    est_lines = piecewise_linear(epochs, *p)\n",
    "\n",
    "    plt.errorbar(epochs, line_cent / est_lines, line_err / est_lines, fmt = '.')\n",
    "    plt.show()\n",
    "\n",
    "#     # Load 144 keV line:\n",
    "    \n",
    "\n",
    "    line_cent = []\n",
    "    line_err = []\n",
    "    for file in chain_files:\n",
    "        cent, err = load_chain(file, test_entry='LineE__4')\n",
    "        line_cent.append(float(cent))\n",
    "        line_err.append(float(err))\n",
    "\n",
    "\n",
    "\n",
    "    plt.errorbar(epochs, line_cent, line_err, fmt='.')\n",
    "    p144_0 = p\n",
    "    p144_0[0] = 144.5\n",
    "    drift_tol = 1e-4\n",
    "    line_tol = 0.5\n",
    "    bounds = ([144.5-0.5, p[1]-1e-5, p[2]-1e-4, p[3]-1e-4, p[4]-1e-4 ],\n",
    "              [144.5+0.5, p[1], p[2], p[3], p[4]])\n",
    "    p144 , e = optimize.curve_fit(piecewise_linear, epochs, line_cent, sigma=line_err, p0 = p144_0,\n",
    "                              bounds = bounds)\n",
    "\n",
    "    print('Fit to 144.5 keV line')\n",
    "    print(p144)\n",
    "\n",
    "    est_lines = piecewise_linear(epochs, *p144)\n",
    "    plt.plot(epochs, est_lines, '.')\n",
    "    plt.show()\n",
    "\n",
    "\n",
    "    plt.errorbar(epochs, line_cent / est_lines, line_err / est_lines, fmt = '.')\n",
    "\n",
    "    plt.show()\n"
   ]
  },
  {
   "cell_type": "code",
   "execution_count": 117,
   "metadata": {},
   "outputs": [
    {
     "name": "stdout",
     "output_type": "stream",
     "text": [
      "First guess:  [105.3, 5.223591147615788, 0.996, 7.0, 0.997]\n",
      "Fit:  [105.3623714    5.93866056   0.99606238   7.48775424   0.99732942]\n",
      "Errors:  [4.06124648e-02 1.11393428e+00 6.08367773e-04 1.64943566e+00\n",
      " 5.85196706e-04]\n"
     ]
    },
    {
     "data": {
      "image/png": "[encoded data removed]",
      "text/plain": [
       "<Figure size 432x288 with 1 Axes>"
      ]
     },
     "metadata": {
      "needs_background": "light"
     },
     "output_type": "display_data"
    },
    {
     "data": {
      "image/png": "[encoded data removed]",
      "text/plain": [
       "<Figure size 432x288 with 1 Axes>"
      ]
     },
     "metadata": {
      "needs_background": "light"
     },
     "output_type": "display_data"
    },
    {
     "name": "stdout",
     "output_type": "stream",
     "text": [
      "Fit to 144.5 keV line\n",
      "[144.59624026   5.93865056   0.99606238   7.48775424   0.99732942]\n"
     ]
    },
    {
     "data": {
      "image/png": "[encoded data removed]",
      "text/plain": [
       "<Figure size 432x288 with 1 Axes>"
      ]
     },
     "metadata": {
      "needs_background": "light"
     },
     "output_type": "display_data"
    },
    {
     "data": {
      "image/png": "[encoded data removed]",
      "text/plain": [
       "<Figure size 432x288 with 1 Axes>"
      ]
     },
     "metadata": {
      "needs_background": "light"
     },
     "output_type": "display_data"
    }
   ],
   "source": [
    "loop_epochs(mod='B',det = '3', free_drift = True, fit_line=True, fit_change1=True)"
   ]
  },
  {
   "cell_type": "code",
   "execution_count": null,
   "metadata": {},
   "outputs": [],
   "source": []
  }
 ],
 "metadata": {
  "anaconda-cloud": {},
  "kernelspec": {
   "display_name": "Python 3",
   "language": "python",
   "name": "python3"
  },
  "language_info": {
   "codemirror_mode": {
    "name": "ipython",
    "version": 3
   },
   "file_extension": ".py",
   "mimetype": "text/x-python",
   "name": "python",
   "nbconvert_exporter": "python",
   "pygments_lexer": "ipython3",
   "version": "3.7.3"
  }
 },
 "nbformat": 4,
 "nbformat_minor": 2
}
