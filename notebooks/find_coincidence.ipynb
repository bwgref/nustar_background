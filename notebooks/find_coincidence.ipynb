{
 "cells": [
  {
   "cell_type": "code",
   "execution_count": 1,
   "metadata": {
    "collapsed": true
   },
   "outputs": [],
   "source": [
    "import numpy as np\n",
    "import matplotlib.pyplot as plt\n",
    "%matplotlib inline \n",
    "import glob\n",
    "from astropy.io.fits import getdata, getheader, writeto, append, setval"
   ]
  },
  {
   "cell_type": "code",
   "execution_count": 2,
   "metadata": {
    "collapsed": true
   },
   "outputs": [],
   "source": [
    "def write_spec(outspec, exp, outname='draft.pha', det_id= 0, mod='A'):\n",
    "    # Read the template\n",
    "    null, hdr = getdata('nu30001039002_srcA_sr.pha', 0, header=True)\n",
    "    writeto(outname, null, header=hdr, overwrite=True)\n",
    "    spec, hdr = getdata('nu30001039002_srcA_sr.pha', 1, header=True)\n",
    "    spec['COUNTS'] = outspec\n",
    "    hdr['RESPFILE'] = 'det{}{}.rmf'.format(det_id, mod)\n",
    "    hdr['BACKFILE'] = ''\n",
    "    hdr['ANCRFILE'] = ''\n",
    "    hdr['EXPOSURE'] = exp\n",
    "    append(outname, spec, hdr)\n"
   ]
  },
  {
   "cell_type": "code",
   "execution_count": 3,
   "metadata": {
    "collapsed": false
   },
   "outputs": [],
   "source": [
    "def read_spec(infile, det_id=0):\n",
    "    # returns spec, edges, exposure\n",
    "    evdata = getdata(infile, 1)\n",
    "\n",
    "    # Just take DET0 and GRADE==0 for now:\n",
    "    filter = ( (evdata['GRADE']==0) & (evdata['DET_ID']==det_id) & (evdata['LIMB_ANGLE'] < -2) )\n",
    "    inds = filter.nonzero()\n",
    "    \n",
    "    ehist, edges = np.histogram(evdata['PI'][inds[0]], range = [0, 4096],\n",
    "                       bins=4096)\n",
    "    return ehist, edges"
   ]
  },
  {
   "cell_type": "code",
   "execution_count": 18,
   "metadata": {
    "collapsed": false
   },
   "outputs": [],
   "source": [
    "def check_coincidence(file1, file2, window=1e-3):\n",
    "    # Checks for coincidence triggers between FPMA and FPMB within \"window\" times\n",
    "\n",
    "    evdata1 = getdata(file1, 1)\n",
    "    evdata2 = getdata(file2, 1)\n",
    "    \n",
    "\n",
    "    nph1 = len(evdata1)\n",
    "    nph2 = len(evdata2)\n",
    "\n",
    "    startj = 0\n",
    "    for i in range(nph1):\n",
    "        if evdata1['LIMB_ANGLE'][i] > 0:\n",
    "            continue\n",
    "        t1 = evdata1['TIME'][i]\n",
    "\n",
    "\n",
    "        nsearch = (nph2 - startj)\n",
    "        \n",
    "        t2_prev = evdata2['TIME'][startj]\n",
    "        dt_prev = np.abs(t1 - t2_prev)\n",
    "        if (dt_prev < window):\n",
    "            print(dt_prev, evdata1['PI'][i] * 0.04 + 1.6, evdata2['PI'][startj]*0.04+1.6, evdata1['LIMB_ANGLE'][i])        \n",
    "\n",
    "        for j in range(nsearch):\n",
    "            checkj = j + startj\n",
    "            if checkj >= nph2:\n",
    "                break\n",
    "            t2 = evdata2['TIME'][checkj]\n",
    "            dt = t2 - t1\n",
    "            \n",
    "            if (dt < 0):\n",
    "                startj = checkj\n",
    "                continue\n",
    "            elif (dt < window):\n",
    "                print(dt, evdata1['PI'][i] * 0.04 + 1.6, evdata2['PI'][checkj]*0.04+1.6, evdata1['LIMB_ANGLE'][i])\n",
    "            else:\n",
    "                break\n",
    "    return"
   ]
  },
  {
   "cell_type": "code",
   "execution_count": 19,
   "metadata": {
    "collapsed": true
   },
   "outputs": [],
   "source": [
    "def loop_evts():\n",
    "    # Returns the full mission data unbinned spectrum\n",
    "    # set divided into epochs along with exposure.\n",
    "    \n",
    "    for ind, evtdir in enumerate(glob.glob('../scripts/reprocess_background/full_mission/*/')):\n",
    "\n",
    "        evtA = glob.glob('{}/*{}_02.fits'.format(evtdir, 'A'))\n",
    "        evtB = glob.glob('{}/*{}_02.fits'.format(evtdir, 'B'))\n",
    "\n",
    "        check_coincidence(evtA[0], evtB[0], window = 10e-6)\n",
    "        if (ind > 100):\n",
    "            break"
   ]
  },
  {
   "cell_type": "code",
   "execution_count": 20,
   "metadata": {
    "collapsed": false,
    "scrolled": false
   },
   "outputs": [
    {
     "name": "stdout",
     "output_type": "stream",
     "text": [
      "1.07288360596e-06 27.88 6.4 -11.1076\n",
      "9.77516174316e-06 28.56 125.64 -22.4552\n",
      "1.10268592834e-06 115.08 97.04 -19.3386\n",
      "0.0 43.2 104.04 -30.632\n",
      "3.24845314026e-06 53.16 89.04 -6.23476\n",
      "1.07288360596e-06 73.72 25.28 -29.674\n",
      "3.24845314026e-06 63.28 87.96 -12.9732\n",
      "4.33623790741e-06 22.92 161.32 -19.2848\n",
      "2.1755695343e-06 7.0 73.96 -9.94409\n",
      "3.24845314026e-06 101.32 21.96 -14.0436\n",
      "9.74535942078e-06 45.08 4.48 -30.6387\n",
      "3.24845314026e-06 2.72 40.96 -36.5927\n",
      "3.24845314026e-06 160.24 79.12 -4.66498\n",
      "7.59959220886e-06 3.44 64.6 -3.00333\n",
      "6.49690628052e-06 37.28 23.28 -3.97781\n",
      "4.32133674622e-06 5.36 39.28 -13.3065\n",
      "2.1755695343e-06 2.08 148.56 -0.676437\n",
      "5.42402267456e-06 29.16 64.96 -5.78116\n",
      "0.0 91.76 54.08 -9.98678\n",
      "3.26335430145e-06 108.48 44.6 -2.98501\n"
     ]
    }
   ],
   "source": [
    "loop_evts()"
   ]
  },
  {
   "cell_type": "code",
   "execution_count": null,
   "metadata": {
    "collapsed": true
   },
   "outputs": [],
   "source": []
  }
 ],
 "metadata": {
  "anaconda-cloud": {},
  "kernelspec": {
   "display_name": "Python [conda root]",
   "language": "python",
   "name": "conda-root-py"
  },
  "language_info": {
   "codemirror_mode": {
    "name": "ipython",
    "version": 3
   },
   "file_extension": ".py",
   "mimetype": "text/x-python",
   "name": "python",
   "nbconvert_exporter": "python",
   "pygments_lexer": "ipython3",
   "version": "3.5.1"
  }
 },
 "nbformat": 4,
 "nbformat_minor": 2
}
