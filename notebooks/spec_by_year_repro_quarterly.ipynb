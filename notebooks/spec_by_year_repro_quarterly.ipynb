{
 "cells": [
  {
   "cell_type": "code",
   "execution_count": 15,
   "metadata": {},
   "outputs": [],
   "source": [
    "import numpy as np\n",
    "import glob\n",
    "from astropy.io.fits import getdata, getheader, writeto, append, setval\n",
    "\n",
    "\n",
    "from os.path import normpath, basename\n",
    "\n",
    "import matplotlib.pyplot as plt\n"
   ]
  },
  {
   "cell_type": "code",
   "execution_count": 4,
   "metadata": {},
   "outputs": [],
   "source": [
    "def load_data_clean(evtdirs, maxload=False):\n",
    "    # Returns the full mission data unbinned spectrum\n",
    "    # set divided into epochs along with exposure.\n",
    "    \n",
    "    # Setup NuSTAR time epochs:\n",
    "    launch_met=77241600. # 2012-06-13T00:00:00\n",
    "    # Quaterly plots\n",
    "    \n",
    "    # Set up data structure:\n",
    "    data_table = {'A':{}, 'B':{}}\n",
    "    for mod in data_table:\n",
    "        for det_id in range(4):\n",
    "            det_key = 'det{}'.format(det_id)\n",
    "            data_table[mod][det_key] = {'im':np.zeros(32, 32),\n",
    "                                        'exp':0.}\n",
    "    \n",
    "    for ind, evtdir in enumerate(evtdirs):\n",
    "        for mod in ['A', 'B']:\n",
    "\n",
    "            seqid = basename(normpath(evtdir))\n",
    "            \n",
    "            attorb_file = evtdir+'/'+seqid+'/event_cl/nu'+seqid+'{}.attorb'.format(mod)\n",
    "            attorb = getdata(attorb_file)\n",
    "\n",
    "            \n",
    "\n",
    "            for file in glob.glob('{}/*{}02_cl.evt'.format(evtdir, mod)):\n",
    "            # Skip these high background obsids\n",
    "                if file.find(\"40101012\") != -1:\n",
    "                    continue\n",
    "\n",
    "                if file.find(\"30161002002\") != -1:\n",
    "                    continue\n",
    "\n",
    "                hdr= getheader(file, 1)\n",
    "\n",
    "                evdata = getdata(file, 1)\n",
    "                ev_elv = np.interp(evdata['TIME'],attorb['TIME'], attorb['ELV'])\n",
    "                \n",
    "                for det_id in range(4):\n",
    "                    det_key = 'det{}'.format(det_id)\n",
    " \n",
    "                    elec_filter = ~ ( \\\n",
    "                                (evdata['STATUS'][:, 10]) | \\\n",
    "                                (evdata['STATUS'][:, 8]) | \\\n",
    "                                (evdata['STATUS'][:, 7]) | \\\n",
    "                                (evdata['STATUS'][:, 6]) | \\\n",
    "                                (evdata['STATUS'][:, 5]) | \\\n",
    "                                (evdata['STATUS'][:, 4]) ) \n",
    "\n",
    "                    evt_filter = (elec_filter) & \\\n",
    "                        (evdata['DET_ID'] == det_id) & \\\n",
    "                        (evdata['GRADE'] == 0) & \\\n",
    "                        (ev_elv < -1)\n",
    "\n",
    "                    good_inds = np.where(evt_filter)[0]\n",
    "\n",
    "                    \n",
    "\n",
    "                    ehist, edges = np.histogram(evdata['PI'][good_inds],\n",
    "                                        range = [0, 4096],\n",
    "                                        bins=4096)\n",
    "                    data_table[mod][det_key]['spec'] += ehist\n",
    "                    data_table[mod][det_key]['exp'] +=np.float(hdr['EXPOSURE'])\n",
    "\n",
    "        if (ind % 10) ==0:\n",
    "            print('{} of {}'.format(ind, len(evtdirs)))\n",
    "\n",
    "        if maxload is not False:\n",
    "            if ind > maxload:\n",
    "                break\n",
    "    return data_table\n",
    "    \n"
   ]
  },
  {
   "cell_type": "code",
   "execution_count": 103,
   "metadata": {},
   "outputs": [],
   "source": [
    "def write_spec(outspec, exp, outname='draft.pha', det_id=det_id, mod='A'):\n",
    "    # Read the template\n",
    "    null, hdr = getdata('nu30001039002_srcA_sr.pha', 0, header=True)\n",
    "    writeto(outname, null, header=hdr, overwrite=True)\n",
    "    spec, hdr = getdata('nu30001039002_srcA_sr.pha', 1, header=True)\n",
    "    spec['COUNTS'] = outspec\n",
    "    hdr['RESPFILE'] = '{}{}.rmf'.format(det_id, mod)\n",
    "    hdr['BACKFILE'] = ''\n",
    "    hdr['ANCRFILE'] = ''\n",
    "    hdr['EXPOSURE'] = 1.0\n",
    "    append(outname, spec, hdr)\n",
    "\n"
   ]
  },
  {
   "cell_type": "code",
   "execution_count": 7,
   "metadata": {},
   "outputs": [
    {
     "name": "stdout",
     "output_type": "stream",
     "text": [
      "epoch1_list.txt\n",
      "['../scripts/reprocess_background/full_mission/60021110001/'\n",
      " '../scripts/reprocess_background/full_mission/80002013026/'\n",
      " '../scripts/reprocess_background/full_mission/80002013023/'\n",
      " '../scripts/reprocess_background/full_mission/40032008001/'\n",
      " '../scripts/reprocess_background/full_mission/60023002001/'\n",
      " '../scripts/reprocess_background/full_mission/60061259001/'\n",
      " '../scripts/reprocess_background/full_mission/60061324001/'\n",
      " '../scripts/reprocess_background/full_mission/60002027004/'\n",
      " '../scripts/reprocess_background/full_mission/60061072001/'\n",
      " '../scripts/reprocess_background/full_mission/60001068002/']\n"
     ]
    }
   ],
   "source": [
    "for epoch_file in sorted(glob.glob('epoch*_list.txt')):\n",
    "    print(epoch_file)\n",
    "    epoch = (epoch_file.split('_'))[0]\n",
    "\n",
    "\n",
    "    evtdirs = np.loadtxt(epoch_file, dtype='str')\n",
    "    dtab = load_data_clean(evtdirs)\n",
    "#     for mod in dtab:\n",
    "#         for det_id in dtab[mod]:\n",
    "#             outname='{}_{}_FPM{}_repro.pha'.format(epoch, det_id, mod)\n",
    "#             print(outname)\n",
    "#             #write_spec(dtab[mod][det_id]['spec'], \n",
    "#             #          dtab[mod][det_id]['exp'], det_id = det_id, outname=outname)\n",
    "\n",
    "    break\n"
   ]
  },
  {
   "cell_type": "code",
   "execution_count": 23,
   "metadata": {},
   "outputs": [
    {
     "name": "stdout",
     "output_type": "stream",
     "text": [
      "../scripts/reprocess_background/full_mission/60021110001/\n",
      "../scripts/reprocess_background/full_mission/60021110001/nu60021110001A02_cl.evt\n"
     ]
    }
   ],
   "source": [
    "# Set up data structure:\n",
    "data_table = {'A':{}, 'B':{}}\n",
    "for mod in data_table:\n",
    "    for det_id in range(4):\n",
    "        det_key = 'det{}'.format(det_id)\n",
    "        data_table[mod][det_key] = {'det_im':np.zeros([32, 32]),\n",
    "                                    'exp':0.}\n",
    "\n",
    "e_cut = 10. # keV\n",
    "pi_cut = (10.0 - 1.6)/0.04\n",
    "\n",
    "for ind, evtdir in enumerate(evtdirs):\n",
    "    for mod in ['A', 'B']:\n",
    "        print(evtdir)\n",
    "        for file in glob.glob('{}/*{}02_cl.evt'.format(evtdir, mod)):\n",
    "            print(file)\n",
    "        \n",
    "            evdata = getdata(file, 1)\n",
    "            \n",
    "            for det_id in range(4):\n",
    "                det_key = 'det{}'.format(det_id)\n",
    "\n",
    "                evt_filter = (evdata['PI'] < pi_cut) & \\\n",
    "                    (evdata['DET_ID'] == det_id)\n",
    "\n",
    "                det_im, xedges, yedges = np.histogram2d(evdata['RAWX'][evt_filter], evdata['RAWY'][evt_filter],\n",
    "                                        bins = 32, range = [[0, 31], [0,31]])\n",
    "                \n",
    "                data_table[mod][det_key]['det_im'] += det_im\n",
    " #               data_table[mod][det_key]['exp'] +=np.float(hdr['EXPOSURE'])\n",
    "                break\n",
    "\n",
    "\n",
    "        break\n",
    "    break\n"
   ]
  },
  {
   "cell_type": "code",
   "execution_count": 25,
   "metadata": {},
   "outputs": [
    {
     "data": {
      "image/png": "[encoded data removed]",
      "text/plain": [
       "<Figure size 432x288 with 1 Axes>"
      ]
     },
     "metadata": {
      "needs_background": "light"
     },
     "output_type": "display_data"
    }
   ],
   "source": [
    "plt.imshow(data_table['A']['det0']['det_im'])\n",
    "plt.show()"
   ]
  },
  {
   "cell_type": "code",
   "execution_count": null,
   "metadata": {},
   "outputs": [],
   "source": []
  }
 ],
 "metadata": {
  "anaconda-cloud": {},
  "kernelspec": {
   "display_name": "Python 3",
   "language": "python",
   "name": "python3"
  },
  "language_info": {
   "codemirror_mode": {
    "name": "ipython",
    "version": 3
   },
   "file_extension": ".py",
   "mimetype": "text/x-python",
   "name": "python",
   "nbconvert_exporter": "python",
   "pygments_lexer": "ipython3",
   "version": "3.7.3"
  }
 },
 "nbformat": 4,
 "nbformat_minor": 2
}
