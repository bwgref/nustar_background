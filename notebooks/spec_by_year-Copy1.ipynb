{
 "cells": [
  {
   "cell_type": "code",
   "execution_count": 1,
   "metadata": {
    "collapsed": true
   },
   "outputs": [],
   "source": [
    "import numpy as np\n",
    "import matplotlib.pyplot as plt\n",
    "%matplotlib inline \n",
    "import glob\n",
    "from astropy.io.fits import getdata, getheader, writeto, append, setval"
   ]
  },
  {
   "cell_type": "code",
   "execution_count": 6,
   "metadata": {
    "collapsed": true
   },
   "outputs": [],
   "source": [
    "def write_spec(outspec, exp, outname='draft.pha', det_id= 0, mod='A'):\n",
    "    # Read the template\n",
    "    null, hdr = getdata('nu30001039002_srcA_sr.pha', 0, header=True)\n",
    "    writeto(outname, null, header=hdr, overwrite=True)\n",
    "    spec, hdr = getdata('nu30001039002_srcA_sr.pha', 1, header=True)\n",
    "    spec['COUNTS'] = outspec\n",
    "    hdr['RESPFILE'] = 'det{}{}.rmf'.format(det_id, mod)\n",
    "    hdr['BACKFILE'] = ''\n",
    "    hdr['ANCRFILE'] = ''\n",
    "    hdr['EXPOSURE'] = exp\n",
    "    append(outname, spec, hdr)\n"
   ]
  },
  {
   "cell_type": "code",
   "execution_count": 7,
   "metadata": {
    "collapsed": false
   },
   "outputs": [],
   "source": [
    "def read_spec(infile, det_id=0):\n",
    "    # returns spec, edges, exposure\n",
    "    evdata = getdata(infile, 1)\n",
    "\n",
    "    # Just take DET0 and GRADE==0 for now:\n",
    "    filter = ( (evdata['GRADE']==0) & (evdata['DET_ID']==det_id) & (evdata['LIMB_ANGLE'] < -2) )\n",
    "    inds = filter.nonzero()\n",
    "    \n",
    "    ehist, edges = np.histogram(evdata['PI'][inds[0]], range = [0, 4096],\n",
    "                       bins=4096)\n",
    "    return ehist, edges"
   ]
  },
  {
   "cell_type": "code",
   "execution_count": 4,
   "metadata": {
    "collapsed": true
   },
   "outputs": [],
   "source": [
    "def load_data(mod='A', det_id = 0):\n",
    "    # Returns the full mission data unbinned spectrum\n",
    "    # set divided into epochs along with exposure.\n",
    "    \n",
    "    # Setup NuSTAR time epochs:\n",
    "    launch_met=77241600. # 2012-06-13T00:00:00\n",
    "    # Yearly plots for now\n",
    "    epochs = 6\n",
    "\n",
    "\n",
    "    spec = np.zeros([epochs, 4096])\n",
    "    exp = np.zeros(epochs)\n",
    "\n",
    "    for ind, file in enumerate(glob.glob('../full_mission/*'+mod+'_02*')):\n",
    "\n",
    "        # Skip these high background obsids\n",
    "        if file.find(\"40101012\") != -1:\n",
    "            continue\n",
    "\n",
    "        if file.find(\"30161002002\") != -1:\n",
    "            continue\n",
    "\n",
    "        hdr= getheader(file, 1)\n",
    "        epoch = np.float(hdr['TSTART'])\n",
    "        dt_years = (epoch-launch_met) / 3.154e7 # years\n",
    "        epoch_ind = np.int(np.floor(dt_years))\n",
    "\n",
    "\n",
    "        ehist, edges = read_spec(file, det_id=det_id)\n",
    "        spec[epoch_ind, :]+=ehist\n",
    "        exp[epoch_ind] +=np.float(hdr['EXPOSURE'])\n",
    "        \n",
    "    return spec, exp"
   ]
  },
  {
   "cell_type": "code",
   "execution_count": 5,
   "metadata": {
    "collapsed": false
   },
   "outputs": [
    {
     "name": "stdout",
     "output_type": "stream",
     "text": [
      "year0_det0_FPMA.pha\n",
      "year1_det0_FPMA.pha\n",
      "year2_det0_FPMA.pha\n",
      "year3_det0_FPMA.pha\n",
      "year4_det0_FPMA.pha\n",
      "year0_det1_FPMA.pha\n",
      "year1_det1_FPMA.pha\n",
      "year2_det1_FPMA.pha\n",
      "year3_det1_FPMA.pha\n",
      "year4_det1_FPMA.pha\n",
      "year0_det2_FPMA.pha\n",
      "year1_det2_FPMA.pha\n",
      "year2_det2_FPMA.pha\n",
      "year3_det2_FPMA.pha\n",
      "year4_det2_FPMA.pha\n",
      "year0_det3_FPMA.pha\n",
      "year1_det3_FPMA.pha\n",
      "year2_det3_FPMA.pha\n",
      "year3_det3_FPMA.pha\n",
      "year4_det3_FPMA.pha\n",
      "year0_det0_FPMB.pha\n",
      "year1_det0_FPMB.pha\n",
      "year2_det0_FPMB.pha\n",
      "year3_det0_FPMB.pha\n",
      "year4_det0_FPMB.pha\n",
      "year0_det1_FPMB.pha\n",
      "year1_det1_FPMB.pha\n",
      "year2_det1_FPMB.pha\n",
      "year3_det1_FPMB.pha\n",
      "year4_det1_FPMB.pha\n",
      "year0_det2_FPMB.pha\n",
      "year1_det2_FPMB.pha\n",
      "year2_det2_FPMB.pha\n",
      "year3_det2_FPMB.pha\n",
      "year4_det2_FPMB.pha\n",
      "year0_det3_FPMB.pha\n",
      "year1_det3_FPMB.pha\n",
      "year2_det3_FPMB.pha\n",
      "year3_det3_FPMB.pha\n",
      "year4_det3_FPMB.pha\n"
     ]
    },
    {
     "data": {
      "image/png": "[encoded data removed]",
      "text/plain": [
       "<matplotlib.figure.Figure at 0x10d7412b0>"
      ]
     },
     "metadata": {},
     "output_type": "display_data"
    }
   ],
   "source": [
    "for mod in ['A', 'B']:\n",
    "    for det_id in np.arange(4):\n",
    "\n",
    "        spec, exp = load_data(mod=mod, det_id = det_id)\n",
    "\n",
    "\n",
    "        for ind in np.arange(len(spec[:, 0])):\n",
    "            if(exp[ind] == 0):\n",
    "                continue\n",
    "            outname='../pha_files/year{}_det{}_FPM{}.pha'.format(ind, det_id, mod)\n",
    "            print(outname)\n",
    "            write_spec(spec[ind, :], exp[ind], det_id = det_id, mod = mod, outname=outname)\n"
   ]
  },
  {
   "cell_type": "code",
   "execution_count": null,
   "metadata": {
    "collapsed": false
   },
   "outputs": [],
   "source": [
    "spec = np.zeros([6, 4096])\n",
    "exp = np.zeros(6)\n",
    "for mod in ['A', 'B']:\n",
    "    for ind, file in enumerate(glob.glob('../full_mission/*'+mod+'_02*')):\n",
    "\n",
    "        if file.find(\"40101012\") != -1:\n",
    "            continue\n",
    "\n",
    "        if file.find(\"30161002002\") != -1:\n",
    "            continue\n",
    "\n",
    "        evdata = getdata(file, 1)\n",
    "        hdr= getheader(file, 1)\n",
    "        epoch = np.float(hdr['TSTART'])\n",
    "        dt_years = (epoch-launch_met) / 3.154e7 # years\n",
    "        epoch_ind = np.int(np.floor(dt_years))\n",
    "\n",
    "\n",
    "\n",
    "        # Just take DET0 and GRADE==0 for now:\n",
    "        filter = ( (evdata['GRADE']==0) & (evdata['DET_ID']==1) & (evdata['LIMB_ANGLE'] < -2) )\n",
    "        inds = filter.nonzero()\n",
    "\n",
    "        ehist, edges = np.histogram(evdata['PI'][inds[0]], range = [0, 4096],\n",
    "                           bins=4096)\n",
    "        spec[epoch_ind, :]+=ehist\n",
    "        exp[epoch_ind] += np.float(hdr['EXPOSURE'])\n",
    "        break\n",
    "        \n",
    "    \n",
    "#     if(epoch_ind == 38):\n",
    "#         inrange = (energies>30) * (energies <45)\n",
    "#         scale = ehist[inrange.nonzero()].mean()\n",
    "\n",
    "\n",
    "#         print(file, hdr['DATE-OBS'], 1e3* scale/(0.04*np.float(hdr['EXPOSURE'])) )\n"
   ]
  },
  {
   "cell_type": "code",
   "execution_count": null,
   "metadata": {
    "collapsed": false
   },
   "outputs": [],
   "source": [
    "from astropy.convolution import convolve, Box1DKernel\n",
    "energies = np.arange(4096) * 0.04 + 1.6\n",
    "smt_size=1\n",
    "for ind in np.arange(len(spec[:, 0])):\n",
    "    if(exp[ind] == 0):\n",
    "        continue\n",
    "    \n",
    "    outname='year{}_det1_fpma.pha'.format(ind)\n",
    "    print(outname)\n",
    "    write_spec(spec[ind, :], exp[ind], outname=outname)\n",
    "    pltspec = convolve(spec[ind, :],Box1DKernel(smt_size))/(0.04*exp[ind])\n",
    "    if(ind==0):\n",
    "        inrange = (energies>86) * (energies <89)\n",
    "        scale = pltspec[inrange.nonzero()].max()\n",
    "    #    print(scale)\n",
    "    #    if(scale > 1e-3):\n",
    "    #        print(ind)\n",
    "        # If you want to scale over some energy range, do that here...\n",
    "#    pltspec *= scale / pltspec[inrange.nonzero()].max() \n",
    "    plt.semilogy(energies[0:4096], pltspec ,\n",
    "                label=str(ind))\n",
    "                 \n",
    "plt.ylabel('Counts / sec / keV')\n",
    "plt.xlabel('Energies (keV)')\n",
    "plt.xlim(50, 150)\n",
    "plt.ylim(4e-4, 0.2e-2)\n",
    "plt.legend()\n",
    "plt.show()\n"
   ]
  },
  {
   "cell_type": "code",
   "execution_count": null,
   "metadata": {
    "collapsed": false
   },
   "outputs": [],
   "source": [
    "outspec = spec[0, :]\n",
    "plt.plot(outspec)\n",
    "write_spec(outspec, exp[0], outname='year0.pha')"
   ]
  },
  {
   "cell_type": "code",
   "execution_count": null,
   "metadata": {
    "collapsed": false
   },
   "outputs": [],
   "source": [
    "hdr['TSTART']"
   ]
  },
  {
   "cell_type": "code",
   "execution_count": null,
   "metadata": {
    "collapsed": true
   },
   "outputs": [],
   "source": [
    "evdata = getdata(file, 1)"
   ]
  },
  {
   "cell_type": "code",
   "execution_count": null,
   "metadata": {
    "collapsed": false
   },
   "outputs": [],
   "source": [
    "evdata.columns"
   ]
  },
  {
   "cell_type": "code",
   "execution_count": null,
   "metadata": {
    "collapsed": true
   },
   "outputs": [],
   "source": []
  }
 ],
 "metadata": {
  "anaconda-cloud": {},
  "kernelspec": {
   "display_name": "Python [conda root]",
   "language": "python",
   "name": "conda-root-py"
  },
  "language_info": {
   "codemirror_mode": {
    "name": "ipython",
    "version": 3
   },
   "file_extension": ".py",
   "mimetype": "text/x-python",
   "name": "python",
   "nbconvert_exporter": "python",
   "pygments_lexer": "ipython3",
   "version": "3.5.1"
  }
 },
 "nbformat": 4,
 "nbformat_minor": 2
}
