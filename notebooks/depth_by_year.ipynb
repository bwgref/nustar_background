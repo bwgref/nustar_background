{
 "cells": [
  {
   "cell_type": "code",
   "execution_count": 1,
   "metadata": {
    "collapsed": true
   },
   "outputs": [],
   "source": [
    "import numpy as np\n",
    "import matplotlib.pyplot as plt\n",
    "%matplotlib inline \n",
    "import glob\n",
    "from astropy.io.fits import getdata, getheader, writeto, append, setval"
   ]
  },
  {
   "cell_type": "code",
   "execution_count": 2,
   "metadata": {
    "collapsed": true
   },
   "outputs": [],
   "source": [
    "def write_spec(outspec, exp, outname='draft.pha', det_id= 0, mod='A'):\n",
    "    # Read the template\n",
    "    null, hdr = getdata('nu30001039002_srcA_sr.pha', 0, header=True)\n",
    "    writeto(outname, null, header=hdr, overwrite=True)\n",
    "    spec, hdr = getdata('nu30001039002_srcA_sr.pha', 1, header=True)\n",
    "    spec['COUNTS'] = outspec\n",
    "    hdr['RESPFILE'] = 'det{}{}.rmf'.format(det_id, mod)\n",
    "    hdr['BACKFILE'] = ''\n",
    "    hdr['ANCRFILE'] = ''\n",
    "    hdr['EXPOSURE'] = exp\n",
    "    append(outname, spec, hdr)\n"
   ]
  },
  {
   "cell_type": "code",
   "execution_count": 2,
   "metadata": {
    "collapsed": false
   },
   "outputs": [],
   "source": [
    "def read_depth(infile, det_id=0):\n",
    "    # returns spec, edges, exposure\n",
    "    evdata = getdata(infile, 1)\n",
    "\n",
    "    # Just take DET0 and GRADE==0 for now:\n",
    "    filter = ( (evdata['GRADE']==0) & (evdata['DET_ID']==det_id) & (evdata['LIMB_ANGLE'] < -2) )\n",
    "    inds = filter.nonzero()\n",
    "    \n",
    "    depth2d, xedges, yedges = np.histogram(evdata['PI'][inds[0]], evdata['']\n",
    "                                           range = [[0, 4096], [-1000, 200]],\n",
    "                                           bins = [4096, 1200])\n",
    "    return depth2d"
   ]
  },
  {
   "cell_type": "code",
   "execution_count": 14,
   "metadata": {
    "collapsed": true
   },
   "outputs": [],
   "source": [
    "def load_data(mod='A', det_id = 0):\n",
    "    # Returns the full mission data unbinned spectrum\n",
    "    # set divided into epochs along with exposure.\n",
    "\n",
    "    # Setup NuSTAR time epochs:\n",
    "    launch_met=77241600. # 2012-06-13T00:00:00\n",
    "    # Yearly plots for now\n",
    "    epochs = 6\n",
    "\n",
    "\n",
    "    spec = np.zeros([epochs, 4096, 1200])\n",
    "    exp = np.zeros(epochs)\n",
    "\n",
    "    for ind, file in enumerate(glob.glob('../full_mission/*'+mod+'_02*')):\n",
    "        print(file)\n",
    "        evdata = getdata(file, 1)\n",
    "        break\n",
    "\n",
    "        # Skip these high background obsids\n",
    "        if file.find(\"40101012\") != -1:\n",
    "            continue\n",
    "\n",
    "        if file.find(\"30161002002\") != -1:\n",
    "            continue\n",
    "\n",
    "        hdr= getheader(file, 1)\n",
    "        epoch = np.float(hdr['TSTART'])\n",
    "        dt_years = (epoch-launch_met) / 3.154e7 # years\n",
    "        epoch_ind = np.int(np.floor(dt_years))\n",
    "\n",
    "\n",
    "        depthhist = read_depth(file, det_id=det_id)\n",
    "        spec[epoch_ind, :, :]+=depth2d\n",
    "        exp[epoch_ind] +=np.float(hdr['EXPOSURE'])\n",
    "        \n",
    "    return spec, exp"
   ]
  },
  {
   "cell_type": "code",
   "execution_count": 6,
   "metadata": {
    "collapsed": false
   },
   "outputs": [
    {
     "ename": "TypeError",
     "evalue": "can only concatenate list (not \"float\") to list",
     "output_type": "error",
     "traceback": [
      "\u001b[0;31m---------------------------------------------------------------------------\u001b[0m",
      "\u001b[0;31mTypeError\u001b[0m                                 Traceback (most recent call last)",
      "\u001b[0;32m<ipython-input-6-ecf12378a0ed>\u001b[0m in \u001b[0;36m<module>\u001b[0;34m()\u001b[0m\n\u001b[1;32m      2\u001b[0m     \u001b[0;32mfor\u001b[0m \u001b[0mdet_id\u001b[0m \u001b[0;32min\u001b[0m \u001b[0mnp\u001b[0m\u001b[0;34m.\u001b[0m\u001b[0marange\u001b[0m\u001b[0;34m(\u001b[0m\u001b[0;36m4\u001b[0m\u001b[0;34m)\u001b[0m\u001b[0;34m:\u001b[0m\u001b[0;34m\u001b[0m\u001b[0m\n\u001b[1;32m      3\u001b[0m \u001b[0;34m\u001b[0m\u001b[0m\n\u001b[0;32m----> 4\u001b[0;31m         \u001b[0mspec\u001b[0m\u001b[0;34m,\u001b[0m \u001b[0mexp\u001b[0m \u001b[0;34m=\u001b[0m \u001b[0mload_data\u001b[0m\u001b[0;34m(\u001b[0m\u001b[0mmod\u001b[0m\u001b[0;34m=\u001b[0m\u001b[0mmod\u001b[0m\u001b[0;34m,\u001b[0m \u001b[0mdet_id\u001b[0m \u001b[0;34m=\u001b[0m \u001b[0mdet_id\u001b[0m\u001b[0;34m)\u001b[0m\u001b[0;34m\u001b[0m\u001b[0m\n\u001b[0m\u001b[1;32m      5\u001b[0m         \u001b[0;32mbreak\u001b[0m\u001b[0;34m\u001b[0m\u001b[0m\n\u001b[1;32m      6\u001b[0m \u001b[0;34m\u001b[0m\u001b[0m\n",
      "\u001b[0;32m<ipython-input-5-f7e9276ebc0b>\u001b[0m in \u001b[0;36mload_data\u001b[0;34m(mod, det_id)\u001b[0m\n\u001b[1;32m     27\u001b[0m \u001b[0;34m\u001b[0m\u001b[0m\n\u001b[1;32m     28\u001b[0m \u001b[0;34m\u001b[0m\u001b[0m\n\u001b[0;32m---> 29\u001b[0;31m         \u001b[0mdepthhist\u001b[0m \u001b[0;34m=\u001b[0m \u001b[0mread_depth\u001b[0m\u001b[0;34m(\u001b[0m\u001b[0mfile\u001b[0m\u001b[0;34m,\u001b[0m \u001b[0mdet_id\u001b[0m\u001b[0;34m=\u001b[0m\u001b[0mdet_id\u001b[0m\u001b[0;34m)\u001b[0m\u001b[0;34m\u001b[0m\u001b[0m\n\u001b[0m\u001b[1;32m     30\u001b[0m         \u001b[0mspec\u001b[0m\u001b[0;34m[\u001b[0m\u001b[0mepoch_ind\u001b[0m\u001b[0;34m,\u001b[0m \u001b[0;34m:\u001b[0m\u001b[0;34m,\u001b[0m \u001b[0;34m:\u001b[0m\u001b[0;34m]\u001b[0m\u001b[0;34m+=\u001b[0m\u001b[0mdepth2d\u001b[0m\u001b[0;34m\u001b[0m\u001b[0m\n\u001b[1;32m     31\u001b[0m         \u001b[0mexp\u001b[0m\u001b[0;34m[\u001b[0m\u001b[0mepoch_ind\u001b[0m\u001b[0;34m]\u001b[0m \u001b[0;34m+=\u001b[0m\u001b[0mnp\u001b[0m\u001b[0;34m.\u001b[0m\u001b[0mfloat\u001b[0m\u001b[0;34m(\u001b[0m\u001b[0mhdr\u001b[0m\u001b[0;34m[\u001b[0m\u001b[0;34m'EXPOSURE'\u001b[0m\u001b[0;34m]\u001b[0m\u001b[0;34m)\u001b[0m\u001b[0;34m\u001b[0m\u001b[0m\n",
      "\u001b[0;32m<ipython-input-2-abc0a75c11d9>\u001b[0m in \u001b[0;36mread_depth\u001b[0;34m(infile, det_id)\u001b[0m\n\u001b[1;32m      9\u001b[0m     depth2d, xedges, yedges = np.histogram(evdata['PI'][inds[0]],\n\u001b[1;32m     10\u001b[0m                                            \u001b[0mrange\u001b[0m \u001b[0;34m=\u001b[0m \u001b[0;34m[\u001b[0m\u001b[0;34m[\u001b[0m\u001b[0;36m0\u001b[0m\u001b[0;34m,\u001b[0m \u001b[0;36m4096\u001b[0m\u001b[0;34m]\u001b[0m\u001b[0;34m,\u001b[0m \u001b[0;34m[\u001b[0m\u001b[0;34m-\u001b[0m\u001b[0;36m1000\u001b[0m\u001b[0;34m,\u001b[0m \u001b[0;36m200\u001b[0m\u001b[0;34m]\u001b[0m\u001b[0;34m]\u001b[0m\u001b[0;34m,\u001b[0m\u001b[0;34m\u001b[0m\u001b[0m\n\u001b[0;32m---> 11\u001b[0;31m                                            bins = [4096, 1200])\n\u001b[0m\u001b[1;32m     12\u001b[0m     \u001b[0;32mreturn\u001b[0m \u001b[0mdepth2d\u001b[0m\u001b[0;34m\u001b[0m\u001b[0m\n",
      "\u001b[0;32m/Users/bwgref/anaconda/lib/python3.5/site-packages/numpy/lib/function_base.py\u001b[0m in \u001b[0;36mhistogram\u001b[0;34m(a, bins, range, normed, weights, density)\u001b[0m\n\u001b[1;32m    661\u001b[0m             \u001b[0mmn\u001b[0m\u001b[0;34m,\u001b[0m \u001b[0mmx\u001b[0m \u001b[0;34m=\u001b[0m \u001b[0ma\u001b[0m\u001b[0;34m.\u001b[0m\u001b[0mmin\u001b[0m\u001b[0;34m(\u001b[0m\u001b[0;34m)\u001b[0m \u001b[0;34m+\u001b[0m \u001b[0;36m0.0\u001b[0m\u001b[0;34m,\u001b[0m \u001b[0ma\u001b[0m\u001b[0;34m.\u001b[0m\u001b[0mmax\u001b[0m\u001b[0;34m(\u001b[0m\u001b[0;34m)\u001b[0m \u001b[0;34m+\u001b[0m \u001b[0;36m0.0\u001b[0m\u001b[0;34m\u001b[0m\u001b[0m\n\u001b[1;32m    662\u001b[0m     \u001b[0;32melse\u001b[0m\u001b[0;34m:\u001b[0m\u001b[0;34m\u001b[0m\u001b[0m\n\u001b[0;32m--> 663\u001b[0;31m         \u001b[0mmn\u001b[0m\u001b[0;34m,\u001b[0m \u001b[0mmx\u001b[0m \u001b[0;34m=\u001b[0m \u001b[0;34m[\u001b[0m\u001b[0mmi\u001b[0m \u001b[0;34m+\u001b[0m \u001b[0;36m0.0\u001b[0m \u001b[0;32mfor\u001b[0m \u001b[0mmi\u001b[0m \u001b[0;32min\u001b[0m \u001b[0mrange\u001b[0m\u001b[0;34m]\u001b[0m\u001b[0;34m\u001b[0m\u001b[0m\n\u001b[0m\u001b[1;32m    664\u001b[0m     \u001b[0;32mif\u001b[0m \u001b[0mmn\u001b[0m \u001b[0;34m>\u001b[0m \u001b[0mmx\u001b[0m\u001b[0;34m:\u001b[0m\u001b[0;34m\u001b[0m\u001b[0m\n\u001b[1;32m    665\u001b[0m         raise ValueError(\n",
      "\u001b[0;32m/Users/bwgref/anaconda/lib/python3.5/site-packages/numpy/lib/function_base.py\u001b[0m in \u001b[0;36m<listcomp>\u001b[0;34m(.0)\u001b[0m\n\u001b[1;32m    661\u001b[0m             \u001b[0mmn\u001b[0m\u001b[0;34m,\u001b[0m \u001b[0mmx\u001b[0m \u001b[0;34m=\u001b[0m \u001b[0ma\u001b[0m\u001b[0;34m.\u001b[0m\u001b[0mmin\u001b[0m\u001b[0;34m(\u001b[0m\u001b[0;34m)\u001b[0m \u001b[0;34m+\u001b[0m \u001b[0;36m0.0\u001b[0m\u001b[0;34m,\u001b[0m \u001b[0ma\u001b[0m\u001b[0;34m.\u001b[0m\u001b[0mmax\u001b[0m\u001b[0;34m(\u001b[0m\u001b[0;34m)\u001b[0m \u001b[0;34m+\u001b[0m \u001b[0;36m0.0\u001b[0m\u001b[0;34m\u001b[0m\u001b[0m\n\u001b[1;32m    662\u001b[0m     \u001b[0;32melse\u001b[0m\u001b[0;34m:\u001b[0m\u001b[0;34m\u001b[0m\u001b[0m\n\u001b[0;32m--> 663\u001b[0;31m         \u001b[0mmn\u001b[0m\u001b[0;34m,\u001b[0m \u001b[0mmx\u001b[0m \u001b[0;34m=\u001b[0m \u001b[0;34m[\u001b[0m\u001b[0mmi\u001b[0m \u001b[0;34m+\u001b[0m \u001b[0;36m0.0\u001b[0m \u001b[0;32mfor\u001b[0m \u001b[0mmi\u001b[0m \u001b[0;32min\u001b[0m \u001b[0mrange\u001b[0m\u001b[0;34m]\u001b[0m\u001b[0;34m\u001b[0m\u001b[0m\n\u001b[0m\u001b[1;32m    664\u001b[0m     \u001b[0;32mif\u001b[0m \u001b[0mmn\u001b[0m \u001b[0;34m>\u001b[0m \u001b[0mmx\u001b[0m\u001b[0;34m:\u001b[0m\u001b[0;34m\u001b[0m\u001b[0m\n\u001b[1;32m    665\u001b[0m         raise ValueError(\n",
      "\u001b[0;31mTypeError\u001b[0m: can only concatenate list (not \"float\") to list"
     ]
    }
   ],
   "source": [
    "for mod in ['A', 'B']:\n",
    "    for det_id in np.arange(4):\n",
    "\n",
    "        spec, exp = load_data(mod=mod, det_id = det_id)\n",
    "        break\n",
    "\n",
    "        for ind in np.arange(len(spec[:, 0])):\n",
    "            if(exp[ind] == 0):\n",
    "                continue\n",
    "            outname='../pha_files/year{}_det{}_FPM{}.pha'.format(ind, det_id, mod)\n",
    "            print(outname)\n",
    "#            write_spec(spec[ind, :], exp[ind], det_id = det_id, mod = mod, outname=outname)\n"
   ]
  },
  {
   "cell_type": "code",
   "execution_count": 8,
   "metadata": {
    "collapsed": false
   },
   "outputs": [],
   "source": [
    "\n",
    "launch_met=77241600. # 2012-06-13T00:00:00\n",
    "spec = np.zeros([6, 4096])\n",
    "exp = np.zeros(6)\n",
    "for mod in ['A', 'B']:\n",
    "    for ind, file in enumerate(glob.glob('../full_mission/*'+mod+'_02*')):\n",
    "\n",
    "        if file.find(\"40101012\") != -1:\n",
    "            continue\n",
    "\n",
    "        if file.find(\"30161002002\") != -1:\n",
    "            continue\n",
    "\n",
    "        evdata = getdata(file, 1)\n",
    "        hdr= getheader(file, 1)\n",
    "        epoch = np.float(hdr['TSTART'])\n",
    "        dt_years = (epoch-launch_met) / 3.154e7 # years\n",
    "        epoch_ind = np.int(np.floor(dt_years))\n",
    "\n",
    "\n",
    "\n",
    "        # Just take DET0 and GRADE==0 for now:\n",
    "        filter = ( (evdata['GRADE']==0) & (evdata['DET_ID']==1) & (evdata['LIMB_ANGLE'] < -2) )\n",
    "        inds = filter.nonzero()\n",
    "\n",
    "        ehist, edges = np.histogram(evdata['PI'][inds[0]], range = [0, 4096],\n",
    "                           bins=4096)\n",
    "        spec[epoch_ind, :]+=ehist\n",
    "        exp[epoch_ind] += np.float(hdr['EXPOSURE'])\n",
    "        break\n",
    "        \n",
    "    \n",
    "#     if(epoch_ind == 38):\n",
    "#         inrange = (energies>30) * (energies <45)\n",
    "#         scale = ehist[inrange.nonzero()].mean()\n",
    "\n",
    "\n",
    "#         print(file, hdr['DATE-OBS'], 1e3* scale/(0.04*np.float(hdr['EXPOSURE'])) )\n"
   ]
  },
  {
   "cell_type": "code",
   "execution_count": 9,
   "metadata": {
    "collapsed": false
   },
   "outputs": [
    {
     "name": "stdout",
     "output_type": "stream",
     "text": [
      "year2_det1_fpma.pha\n"
     ]
    },
    {
     "data": {
      "image/png": "[encoded data removed]",
      "text/plain": [
       "<matplotlib.figure.Figure at 0x10f454fd0>"
      ]
     },
     "metadata": {},
     "output_type": "display_data"
    }
   ],
   "source": [
    "from astropy.convolution import convolve, Box1DKernel\n",
    "energies = np.arange(4096) * 0.04 + 1.6\n",
    "smt_size=1\n",
    "for ind in np.arange(len(spec[:, 0])):\n",
    "    if(exp[ind] == 0):\n",
    "        continue\n",
    "    \n",
    "    outname='year{}_det1_fpma.pha'.format(ind)\n",
    "    print(outname)\n",
    "    write_spec(spec[ind, :], exp[ind], outname=outname)\n",
    "    pltspec = convolve(spec[ind, :],Box1DKernel(smt_size))/(0.04*exp[ind])\n",
    "    if(ind==0):\n",
    "        inrange = (energies>86) * (energies <89)\n",
    "        scale = pltspec[inrange.nonzero()].max()\n",
    "    #    print(scale)\n",
    "    #    if(scale > 1e-3):\n",
    "    #        print(ind)\n",
    "        # If you want to scale over some energy range, do that here...\n",
    "#    pltspec *= scale / pltspec[inrange.nonzero()].max() \n",
    "    plt.semilogy(energies[0:4096], pltspec ,\n",
    "                label=str(ind))\n",
    "                 \n",
    "plt.ylabel('Counts / sec / keV')\n",
    "plt.xlabel('Energies (keV)')\n",
    "plt.xlim(50, 150)\n",
    "plt.ylim(4e-4, 0.2e-2)\n",
    "plt.legend()\n",
    "plt.show()\n"
   ]
  },
  {
   "cell_type": "code",
   "execution_count": null,
   "metadata": {
    "collapsed": false
   },
   "outputs": [],
   "source": [
    "outspec = spec[0, :]\n",
    "plt.plot(outspec)\n",
    "write_spec(outspec, exp[0], outname='year0.pha')"
   ]
  },
  {
   "cell_type": "code",
   "execution_count": null,
   "metadata": {
    "collapsed": false
   },
   "outputs": [],
   "source": [
    "hdr['TSTART']"
   ]
  },
  {
   "cell_type": "code",
   "execution_count": null,
   "metadata": {
    "collapsed": true
   },
   "outputs": [],
   "source": [
    "evdata = getdata(file, 1)"
   ]
  },
  {
   "cell_type": "code",
   "execution_count": null,
   "metadata": {
    "collapsed": false
   },
   "outputs": [],
   "source": [
    "e"
   ]
  },
  {
   "cell_type": "code",
   "execution_count": null,
   "metadata": {
    "collapsed": true
   },
   "outputs": [],
   "source": []
  }
 ],
 "metadata": {
  "anaconda-cloud": {},
  "kernelspec": {
   "display_name": "Python [conda root]",
   "language": "python",
   "name": "conda-root-py"
  },
  "language_info": {
   "codemirror_mode": {
    "name": "ipython",
    "version": 3
   },
   "file_extension": ".py",
   "mimetype": "text/x-python",
   "name": "python",
   "nbconvert_exporter": "python",
   "pygments_lexer": "ipython3",
   "version": "3.5.2"
  }
 },
 "nbformat": 4,
 "nbformat_minor": 2
}
