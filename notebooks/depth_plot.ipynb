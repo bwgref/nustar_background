{
 "cells": [
  {
   "cell_type": "code",
   "execution_count": 1,
   "metadata": {
    "collapsed": false,
    "scrolled": true
   },
   "outputs": [],
   "source": [
    "import numpy as np\n",
    "import matplotlib.pyplot as plt\n",
    "import matplotlib.cm as cm\n",
    "import matplotlib.colors as colors\n",
    "import pandas as pd\n",
    "%matplotlib inline\n",
    "import glob\n",
    "from astropy.io.fits import getdata, getheader"
   ]
  },
  {
   "cell_type": "code",
   "execution_count": 2,
   "metadata": {
    "collapsed": true,
    "scrolled": true
   },
   "outputs": [],
   "source": [
    "# Setup NuSTAR time epochs:\n",
    "launch_met=77241600. # 2012-06-13T00:00:00\n",
    "\n",
    "from astropy.convolution import convolve, Box1DKernel\n"
   ]
  },
  {
   "cell_type": "code",
   "execution_count": 3,
   "metadata": {
    "collapsed": false,
    "scrolled": true
   },
   "outputs": [],
   "source": [
    "# Step one, sort all of the data:\n",
    "\n",
    "for ind, file in enumerate(glob.glob('../full_mission/*A_02*')):\n",
    "    # Load the header:\n",
    "    hdr = getheader(file, 1)\n",
    "#    dt_weeks = np.floor((hdr['TSTART'] - launch_met) / (7 * 86400.))\n",
    "#    print(dt_weeks)\n",
    "    stub= {'TSTART':np.float(hdr['TSTART']),\n",
    "           'FNAME':file,\n",
    "           'DATE-OBS':hdr['DATE-OBS']}\n",
    "    if(ind==0):\n",
    "        dbase = [stub]\n",
    "    else:\n",
    "        dbase.append(stub)\n",
    "\n",
    "\n",
    "    \n",
    "\n"
   ]
  },
  {
   "cell_type": "code",
   "execution_count": 4,
   "metadata": {
    "collapsed": true
   },
   "outputs": [],
   "source": [
    "def show_map2(map, exposure):\n",
    "    fig = plt.figure(figsize=(14, 6))\n",
    "    ax = fig.add_subplot(111, title='imshow: square bins')\n",
    "    plt.imshow(\n",
    "                map,\n",
    "                interpolation='nearest', origin='low',\n",
    "                cmap=cm.jet, extent=[0, 4096, -500, 500],\n",
    "                aspect=8,\n",
    "                norm=colors.LogNorm(vmin=10.0, vmax = 100.))\n",
    "    plt.colorbar()\n",
    "\n",
    "\n",
    "    plt.show()\n"
   ]
  },
  {
   "cell_type": "code",
   "execution_count": 5,
   "metadata": {
    "collapsed": true,
    "scrolled": true
   },
   "outputs": [],
   "source": [
    "df = pd.DataFrame(dbase)\n",
    "df_sorted = df.sort_values(by='TSTART')\n",
    "\n",
    "interval = 43.*86400. # Weekly\n",
    "reset_interval=1\n",
    "\n",
    "nlatbins = 1000\n",
    "nlonbins = 4096 "
   ]
  },
  {
   "cell_type": "code",
   "execution_count": 6,
   "metadata": {
    "collapsed": false,
    "scrolled": false
   },
   "outputs": [
    {
     "ename": "KeyError",
     "evalue": "\"Key 'SURRPI' does not exist.\"",
     "output_type": "error",
     "traceback": [
      "\u001b[0;31m---------------------------------------------------------------------------\u001b[0m",
      "\u001b[0;31mValueError\u001b[0m                                Traceback (most recent call last)",
      "\u001b[0;32m/Users/bwgref/science/local/anaconda/lib/python3.5/site-packages/astropy/io/fits/column.py\u001b[0m in \u001b[0;36m_get_index\u001b[0;34m(names, key)\u001b[0m\n\u001b[1;32m   1823\u001b[0m         \u001b[0;32mtry\u001b[0m\u001b[0;34m:\u001b[0m\u001b[0;34m\u001b[0m\u001b[0m\n\u001b[0;32m-> 1824\u001b[0;31m             \u001b[0mindx\u001b[0m \u001b[0;34m=\u001b[0m \u001b[0mnames\u001b[0m\u001b[0;34m.\u001b[0m\u001b[0mindex\u001b[0m\u001b[0;34m(\u001b[0m\u001b[0mkey\u001b[0m\u001b[0;34m.\u001b[0m\u001b[0mrstrip\u001b[0m\u001b[0;34m(\u001b[0m\u001b[0;34m)\u001b[0m\u001b[0;34m)\u001b[0m\u001b[0;34m\u001b[0m\u001b[0m\n\u001b[0m\u001b[1;32m   1825\u001b[0m         \u001b[0;32mexcept\u001b[0m \u001b[0mValueError\u001b[0m\u001b[0;34m:\u001b[0m\u001b[0;34m\u001b[0m\u001b[0m\n",
      "\u001b[0;31mValueError\u001b[0m: 'SURRPI' is not in list",
      "\nDuring handling of the above exception, another exception occurred:\n",
      "\u001b[0;31mKeyError\u001b[0m                                  Traceback (most recent call last)",
      "\u001b[0;32m<ipython-input-6-e0bbb13f445b>\u001b[0m in \u001b[0;36m<module>\u001b[0;34m()\u001b[0m\n\u001b[1;32m     11\u001b[0m \u001b[0;34m\u001b[0m\u001b[0m\n\u001b[1;32m     12\u001b[0m     thismap, xedges, yedges = np.histogram2d(evt['PI'][time_filter],\n\u001b[0;32m---> 13\u001b[0;31m                              \u001b[0mevt\u001b[0m\u001b[0;34m[\u001b[0m\u001b[0;34m'SURRPI'\u001b[0m\u001b[0;34m]\u001b[0m\u001b[0;34m[\u001b[0m\u001b[0mtime_filter\u001b[0m\u001b[0;34m]\u001b[0m\u001b[0;34m,\u001b[0m\u001b[0;34m\u001b[0m\u001b[0m\n\u001b[0m\u001b[1;32m     14\u001b[0m                              \u001b[0mrange\u001b[0m \u001b[0;34m=\u001b[0m \u001b[0;34m[\u001b[0m\u001b[0;34m[\u001b[0m\u001b[0;36m0\u001b[0m\u001b[0;34m,\u001b[0m \u001b[0;36m4096\u001b[0m\u001b[0;34m]\u001b[0m\u001b[0;34m,\u001b[0m \u001b[0;34m[\u001b[0m\u001b[0;34m-\u001b[0m\u001b[0;36m500\u001b[0m\u001b[0;34m,\u001b[0m \u001b[0;36m500\u001b[0m\u001b[0;34m]\u001b[0m\u001b[0;34m]\u001b[0m\u001b[0;34m,\u001b[0m\u001b[0;34m\u001b[0m\u001b[0m\n\u001b[1;32m     15\u001b[0m                              bins=[nlonbins, nlatbins])\n",
      "\u001b[0;32m/Users/bwgref/science/local/anaconda/lib/python3.5/site-packages/astropy/io/fits/fitsrec.py\u001b[0m in \u001b[0;36m__getitem__\u001b[0;34m(self, key)\u001b[0m\n\u001b[1;32m    486\u001b[0m \u001b[0;34m\u001b[0m\u001b[0m\n\u001b[1;32m    487\u001b[0m         \u001b[0;32mif\u001b[0m \u001b[0misinstance\u001b[0m\u001b[0;34m(\u001b[0m\u001b[0mkey\u001b[0m\u001b[0;34m,\u001b[0m \u001b[0mstring_types\u001b[0m\u001b[0;34m)\u001b[0m\u001b[0;34m:\u001b[0m\u001b[0;34m\u001b[0m\u001b[0m\n\u001b[0;32m--> 488\u001b[0;31m             \u001b[0;32mreturn\u001b[0m \u001b[0mself\u001b[0m\u001b[0;34m.\u001b[0m\u001b[0mfield\u001b[0m\u001b[0;34m(\u001b[0m\u001b[0mkey\u001b[0m\u001b[0;34m)\u001b[0m\u001b[0;34m\u001b[0m\u001b[0m\n\u001b[0m\u001b[1;32m    489\u001b[0m         \u001b[0;32melif\u001b[0m \u001b[0misinstance\u001b[0m\u001b[0;34m(\u001b[0m\u001b[0mkey\u001b[0m\u001b[0;34m,\u001b[0m \u001b[0;34m(\u001b[0m\u001b[0mslice\u001b[0m\u001b[0;34m,\u001b[0m \u001b[0mnp\u001b[0m\u001b[0;34m.\u001b[0m\u001b[0mndarray\u001b[0m\u001b[0;34m,\u001b[0m \u001b[0mtuple\u001b[0m\u001b[0;34m,\u001b[0m \u001b[0mlist\u001b[0m\u001b[0;34m)\u001b[0m\u001b[0;34m)\u001b[0m\u001b[0;34m:\u001b[0m\u001b[0;34m\u001b[0m\u001b[0m\n\u001b[1;32m    490\u001b[0m             \u001b[0;31m# Have to view as a recarray then back as a FITS_rec, otherwise the\u001b[0m\u001b[0;34m\u001b[0m\u001b[0;34m\u001b[0m\u001b[0m\n",
      "\u001b[0;32m/Users/bwgref/science/local/anaconda/lib/python3.5/site-packages/astropy/io/fits/fitsrec.py\u001b[0m in \u001b[0;36mfield\u001b[0;34m(self, key)\u001b[0m\n\u001b[1;32m    682\u001b[0m         \u001b[0;31m# NOTE: The *column* index may not be the same as the field index in\u001b[0m\u001b[0;34m\u001b[0m\u001b[0;34m\u001b[0m\u001b[0m\n\u001b[1;32m    683\u001b[0m         \u001b[0;31m# the recarray, if the column is a phantom column\u001b[0m\u001b[0;34m\u001b[0m\u001b[0;34m\u001b[0m\u001b[0m\n\u001b[0;32m--> 684\u001b[0;31m         \u001b[0mcolumn\u001b[0m \u001b[0;34m=\u001b[0m \u001b[0mself\u001b[0m\u001b[0;34m.\u001b[0m\u001b[0mcolumns\u001b[0m\u001b[0;34m[\u001b[0m\u001b[0mkey\u001b[0m\u001b[0;34m]\u001b[0m\u001b[0;34m\u001b[0m\u001b[0m\n\u001b[0m\u001b[1;32m    685\u001b[0m         \u001b[0mname\u001b[0m \u001b[0;34m=\u001b[0m \u001b[0mcolumn\u001b[0m\u001b[0;34m.\u001b[0m\u001b[0mname\u001b[0m\u001b[0;34m\u001b[0m\u001b[0m\n\u001b[1;32m    686\u001b[0m         \u001b[0mformat\u001b[0m \u001b[0;34m=\u001b[0m \u001b[0mcolumn\u001b[0m\u001b[0;34m.\u001b[0m\u001b[0mformat\u001b[0m\u001b[0;34m\u001b[0m\u001b[0m\n",
      "\u001b[0;32m/Users/bwgref/science/local/anaconda/lib/python3.5/site-packages/astropy/io/fits/column.py\u001b[0m in \u001b[0;36m__getitem__\u001b[0;34m(self, key)\u001b[0m\n\u001b[1;32m   1430\u001b[0m     \u001b[0;32mdef\u001b[0m \u001b[0m__getitem__\u001b[0m\u001b[0;34m(\u001b[0m\u001b[0mself\u001b[0m\u001b[0;34m,\u001b[0m \u001b[0mkey\u001b[0m\u001b[0;34m)\u001b[0m\u001b[0;34m:\u001b[0m\u001b[0;34m\u001b[0m\u001b[0m\n\u001b[1;32m   1431\u001b[0m         \u001b[0;32mif\u001b[0m \u001b[0misinstance\u001b[0m\u001b[0;34m(\u001b[0m\u001b[0mkey\u001b[0m\u001b[0;34m,\u001b[0m \u001b[0mstring_types\u001b[0m\u001b[0;34m)\u001b[0m\u001b[0;34m:\u001b[0m\u001b[0;34m\u001b[0m\u001b[0m\n\u001b[0;32m-> 1432\u001b[0;31m             \u001b[0mkey\u001b[0m \u001b[0;34m=\u001b[0m \u001b[0m_get_index\u001b[0m\u001b[0;34m(\u001b[0m\u001b[0mself\u001b[0m\u001b[0;34m.\u001b[0m\u001b[0mnames\u001b[0m\u001b[0;34m,\u001b[0m \u001b[0mkey\u001b[0m\u001b[0;34m)\u001b[0m\u001b[0;34m\u001b[0m\u001b[0m\n\u001b[0m\u001b[1;32m   1433\u001b[0m \u001b[0;34m\u001b[0m\u001b[0m\n\u001b[1;32m   1434\u001b[0m         \u001b[0mx\u001b[0m \u001b[0;34m=\u001b[0m \u001b[0mself\u001b[0m\u001b[0;34m.\u001b[0m\u001b[0mcolumns\u001b[0m\u001b[0;34m[\u001b[0m\u001b[0mkey\u001b[0m\u001b[0;34m]\u001b[0m\u001b[0;34m\u001b[0m\u001b[0m\n",
      "\u001b[0;32m/Users/bwgref/science/local/anaconda/lib/python3.5/site-packages/astropy/io/fits/column.py\u001b[0m in \u001b[0;36m_get_index\u001b[0;34m(names, key)\u001b[0m\n\u001b[1;32m   1831\u001b[0m                 \u001b[0mindx\u001b[0m \u001b[0;34m=\u001b[0m \u001b[0mnames\u001b[0m\u001b[0;34m.\u001b[0m\u001b[0mindex\u001b[0m\u001b[0;34m(\u001b[0m\u001b[0m_key\u001b[0m\u001b[0;34m)\u001b[0m\u001b[0;34m\u001b[0m\u001b[0m\n\u001b[1;32m   1832\u001b[0m             \u001b[0;32melif\u001b[0m \u001b[0mcount\u001b[0m \u001b[0;34m==\u001b[0m \u001b[0;36m0\u001b[0m\u001b[0;34m:\u001b[0m\u001b[0;34m\u001b[0m\u001b[0m\n\u001b[0;32m-> 1833\u001b[0;31m                 \u001b[0;32mraise\u001b[0m \u001b[0mKeyError\u001b[0m\u001b[0;34m(\u001b[0m\u001b[0;34m\"Key '{}' does not exist.\"\u001b[0m\u001b[0;34m.\u001b[0m\u001b[0mformat\u001b[0m\u001b[0;34m(\u001b[0m\u001b[0mkey\u001b[0m\u001b[0;34m)\u001b[0m\u001b[0;34m)\u001b[0m\u001b[0;34m\u001b[0m\u001b[0m\n\u001b[0m\u001b[1;32m   1834\u001b[0m             \u001b[0;32melse\u001b[0m\u001b[0;34m:\u001b[0m              \u001b[0;31m# multiple match\u001b[0m\u001b[0;34m\u001b[0m\u001b[0m\n\u001b[1;32m   1835\u001b[0m                 \u001b[0;32mraise\u001b[0m \u001b[0mKeyError\u001b[0m\u001b[0;34m(\u001b[0m\u001b[0;34m\"Ambiguous key name '{}'.\"\u001b[0m\u001b[0;34m.\u001b[0m\u001b[0mformat\u001b[0m\u001b[0;34m(\u001b[0m\u001b[0mkey\u001b[0m\u001b[0;34m)\u001b[0m\u001b[0;34m)\u001b[0m\u001b[0;34m\u001b[0m\u001b[0m\n",
      "\u001b[0;31mKeyError\u001b[0m: \"Key 'SURRPI' does not exist.\""
     ]
    }
   ],
   "source": [
    "for ind, file in enumerate(df_sorted['FNAME']):\n",
    "    \n",
    "    if (ind < 100):\n",
    "        continue\n",
    "    evt = getdata(file, 1)\n",
    "    hdr = getheader(file, 1)\n",
    "    if(reset_interval == 1):\n",
    "        tmin = evt['TIME'].min()\n",
    "\n",
    "    time_filter=( (evt['TIME'] - tmin) < interval).nonzero()\n",
    "\n",
    "    thismap, xedges, yedges = np.histogram2d(evt['PI'][time_filter],\n",
    "                             evt['SURRPI'][time_filter],\n",
    "                             range = [[0, 4096], [-500, 500]],\n",
    "                             bins=[nlonbins, nlatbins])\n",
    "#    plt.scatter(evt['LON'][time_filter], evt['LAT'][time_filter])\n",
    "\n",
    "    if(reset_interval == 1):\n",
    "        tmin = evt['TIME'].min()\n",
    "        reset_interval=0\n",
    "        allmap = thismap\n",
    "        exposure = np.zeros_like(allmap)\n",
    "    else:\n",
    "        allmap+=thismap  \n",
    "        filled = (thismap > 0).nonzero()\n",
    "        exposure[filled] += 1.0\n",
    "\n",
    "    if(max(evt['TIME']) > tmin + interval):    \n",
    "        filled = (exposure > 0).nonzero()\n",
    "        allmap[filled] = allmap[filled] / exposure[filled]\n",
    "\n",
    "        plotmap = allmap.T\n",
    "        plotexp = exposure.T\n",
    "\n",
    "        empty =(plotmap == 0).nonzero()\n",
    "        plotmap[empty]=np.nan\n",
    "        plotexp[empty] = np.nan\n",
    "\n",
    "        show_map2(plotmap, plotexp)\n",
    "        reset_interval=1\n",
    "    \n",
    "    if ind > 700:\n",
    "         break\n",
    "#        break\n"
   ]
  },
  {
   "cell_type": "code",
   "execution_count": null,
   "metadata": {
    "collapsed": false,
    "scrolled": true
   },
   "outputs": [],
   "source": [
    "def show_map(map, exposure):\n",
    "    fig = plt.figure(figsize=(14, 6))\n",
    "    ax = fig.add_subplot(211, title='imshow: square bins')\n",
    "    plt.imshow(\n",
    "                map,\n",
    "                interpolation='nearest', origin='low',\n",
    "                cmap=cm.jet, extent=[0, 360, -6.5, 6.5],\n",
    "                aspect=8,\n",
    "                norm=colors.LogNorm(vmin=1.0, vmax = 100.))\n",
    "    plt.colorbar()\n",
    "\n",
    "    ax = fig.add_subplot(212, title='imshow: square bins')\n",
    "#     plt.show()\n",
    "\n",
    "    plt.imshow(\n",
    "                exposure,\n",
    "                interpolation='nearest', origin='low',\n",
    "                cmap=cm.jet, extent=[0, 360, -6.5, 6.5],\n",
    "                aspect=8,vmin=1.0, vmax =5.)\n",
    "    plt.colorbar()\n",
    "    plt.show()\n",
    "#     plt.close(fig)\n",
    "    input(\"Press Enter to continue...\")\n",
    "    fig.clf()    \n",
    "\n",
    "#plt.set_ytick(yedges)\n",
    "\n",
    "#plt.gca().set_yticks(yedges)\n",
    "# ax = fig.add_subplot(132, title='pcolormesh: actual edges',\n",
    "#         aspect='equal')\n",
    "# X, Y = np.meshgrid(xedges, yedges)\n",
    "# ax.pcolormesh(X, Y, thismap)\n",
    "\n",
    "#ax = fig.add_subplot(133, title='Scatter', aspect = 15)\n",
    "#plt.scatter(evt['LON'][time_filter], evt['LAT'][time_filter])\n",
    "#plt.xlim(0, 360)\n",
    "#plt.ylim(-12, 12)\n"
   ]
  },
  {
   "cell_type": "code",
   "execution_count": 7,
   "metadata": {
    "collapsed": false,
    "scrolled": true
   },
   "outputs": [
    {
     "data": {
      "text/plain": [
       "ColDefs(\n",
       "    name = 'TIME'; format = 'D'\n",
       "    name = 'DET_ID'; format = 'I'\n",
       "    name = 'PI'; format = 'I'\n",
       "    name = 'RAWX'; format = 'I'\n",
       "    name = 'RAWY'; format = 'I'\n",
       "    name = 'DEPTHFLAG'; format = 'I'\n",
       "    name = 'GRADE'; format = 'I'\n",
       "    name = 'GEOMAG'; format = 'E'\n",
       "    name = 'SUNSHINE'; format = 'I'\n",
       "    name = 'RAM_ANGLE'; format = 'E'\n",
       "    name = 'LAT'; format = 'E'\n",
       "    name = 'LON'; format = 'E'\n",
       "    name = 'ALT'; format = 'E'\n",
       "    name = 'LIMB_ANGLE'; format = 'E'\n",
       ")"
      ]
     },
     "execution_count": 7,
     "metadata": {},
     "output_type": "execute_result"
    }
   ],
   "source": [
    "evt.columns"
   ]
  },
  {
   "cell_type": "code",
   "execution_count": null,
   "metadata": {
    "collapsed": true,
    "scrolled": true
   },
   "outputs": [],
   "source": []
  }
 ],
 "metadata": {
  "anaconda-cloud": {},
  "kernelspec": {
   "display_name": "Python [conda root]",
   "language": "python",
   "name": "conda-root-py"
  },
  "language_info": {
   "codemirror_mode": {
    "name": "ipython",
    "version": 3
   },
   "file_extension": ".py",
   "mimetype": "text/x-python",
   "name": "python",
   "nbconvert_exporter": "python",
   "pygments_lexer": "ipython3",
   "version": "3.5.1"
  }
 },
 "nbformat": 4,
 "nbformat_minor": 2
}
